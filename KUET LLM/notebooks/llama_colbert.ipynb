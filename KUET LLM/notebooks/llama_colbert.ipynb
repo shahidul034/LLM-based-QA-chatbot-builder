{
 "cells": [
  {
   "cell_type": "code",
   "execution_count": null,
   "metadata": {},
   "outputs": [],
   "source": [
    "# Get peft config\n",
    "from peft import PeftConfig\n",
    "from peft import PeftModel\n",
    "import transformers\n",
    "import torch\n",
    "from transformers import pipeline\n",
    "import os\n",
    "import torch\n",
    "from datasets import load_dataset, Dataset\n",
    "import pandas as pd\n",
    "import transformers\n",
    "from transformers import AutoTokenizer\n",
    "from trl import SFTTrainer\n",
    "import transformers\n",
    "from peft import AutoPeftModelForCausalLM\n",
    "from transformers import GenerationConfig\n",
    "from pynvml import *\n",
    "import torch\n",
    "from transformers import AutoTokenizer, AutoModelForCausalLM, pipeline\n",
    "from langchain.text_splitter import CharacterTextSplitter\n",
    "from langchain.embeddings import HuggingFaceEmbeddings\n",
    "from langchain.vectorstores import FAISS\n",
    "from langchain_community.document_loaders import TextLoader\n",
    "from langchain_community.document_loaders import Docx2txtLoader\n",
    "from langchain.text_splitter import RecursiveCharacterTextSplitter\n",
    "import glob\n",
    "base_model = \"NousResearch/Llama-2-7b-chat-hf\"\n",
    "lora_output = 'models/lora_KUET_LLM_llama'\n",
    "full_output = 'models/full_KUET_LLM_llama'\n",
    "DEVICE = 'cuda'\n",
    "config = PeftConfig.from_pretrained(lora_output)\n",
    "model = transformers.AutoModelForCausalLM.from_pretrained(config.base_model_name_or_path)\n",
    "tokenizer = transformers.AutoTokenizer.from_pretrained(base_model)\n",
    "model = PeftModel.from_pretrained(model, lora_output)"
   ]
  },
  {
   "cell_type": "code",
   "execution_count": null,
   "metadata": {},
   "outputs": [],
   "source": [
    "from transformers import pipeline\n",
    "import transformers\n",
    "base_model = \"NousResearch/Llama-2-7b-chat-hf\"\n",
    "full_output = 'models/full_KUET_LLM_llama'\n",
    "tokenizer = transformers.AutoTokenizer.from_pretrained(base_model)\n",
    "# pipe = pipeline(task=\"text-generation\", model=full_output, tokenizer=tokenizer, max_length=630)\n",
    "pipe = pipeline(\"text-generation\",\n",
    "                model=full_output,\n",
    "                tokenizer= tokenizer,\n",
    "                torch_dtype=torch.bfloat16,\n",
    "                device_map=\"auto\",\n",
    "                max_new_tokens = 512,\n",
    "                do_sample=True,\n",
    "                top_k=30,\n",
    "                num_return_sequences=1,\n",
    "                eos_token_id=tokenizer.eos_token_id\n",
    "                )\n",
    "from langchain import HuggingFacePipeline\n",
    "llm = HuggingFacePipeline(pipeline = pipe, model_kwargs = {'temperature':0})"
   ]
  },
  {
   "cell_type": "code",
   "execution_count": null,
   "metadata": {},
   "outputs": [],
   "source": [
    "directory_path = r'/home/sdm/Desktop/shakib/KUET LLM/data/'\n",
    "file_pattern = '*.docx'  \n",
    "file_paths = glob.glob(directory_path + file_pattern)\n",
    "file_paths"
   ]
  },
  {
   "cell_type": "code",
   "execution_count": null,
   "metadata": {},
   "outputs": [],
   "source": [
    "from ragatouille import RAGPretrainedModel\n",
    "\n",
    "RAG = RAGPretrainedModel.from_pretrained(\"colbert-ir/colbertv2.0\")"
   ]
  },
  {
   "cell_type": "code",
   "execution_count": null,
   "metadata": {},
   "outputs": [],
   "source": [
    "all_doc=[]\n",
    "for x in file_paths:\n",
    "    loader = Docx2txtLoader(x)\n",
    "    documents=loader.load()\n",
    "    # print(((documents)[0]).page_content)\n",
    "    all_doc.append(str(documents[0].page_content))\n"
   ]
  },
  {
   "cell_type": "code",
   "execution_count": null,
   "metadata": {},
   "outputs": [],
   "source": [
    "docs='\\n\\n'.join(all_doc)"
   ]
  },
  {
   "cell_type": "code",
   "execution_count": null,
   "metadata": {},
   "outputs": [],
   "source": [
    "RAG.index(\n",
    "    collection=[docs],\n",
    "    index_name=\"mistral_colbert\",\n",
    "    max_document_length=256,\n",
    "    split_documents=True,\n",
    ")"
   ]
  },
  {
   "cell_type": "code",
   "execution_count": null,
   "metadata": {},
   "outputs": [],
   "source": [
    "retriever = RAG.as_langchain_retriever(k=3)"
   ]
  },
  {
   "cell_type": "code",
   "execution_count": null,
   "metadata": {},
   "outputs": [],
   "source": [
    "from langchain import hub\n",
    "prompt = hub.pull(\"rlm/rag-prompt\")\n",
    "prompt"
   ]
  },
  {
   "cell_type": "code",
   "execution_count": null,
   "metadata": {},
   "outputs": [],
   "source": [
    "def format_docs(docs):\n",
    "    return \"\\n\\n\".join(doc.page_content for doc in docs)\n",
    "\n",
    "from langchain_core.output_parsers import StrOutputParser\n",
    "from langchain_core.runnables import RunnablePassthrough\n",
    "rag_chain = (\n",
    "    {\"context\": retriever | format_docs, \"question\": RunnablePassthrough()}\n",
    "    | prompt\n",
    "    | llm\n",
    "    | StrOutputParser()\n",
    ")\n",
    "# torch.cuda.empty_cache()"
   ]
  },
  {
   "cell_type": "code",
   "execution_count": null,
   "metadata": {},
   "outputs": [],
   "source": [
    "def ans_ret(inp,history):\n",
    "    ans=rag_chain.invoke(inp)\n",
    "    k=ans.split(\"Based on the text material\")\n",
    "    k2=ans.split(\"Hope that helped! Let me know if you have any more questions.\")\n",
    "\n",
    "    if len(k)>=2:\n",
    "        k3=k[0].split(\"Hope that helped! Let me know if you have any more questions.\")\n",
    "        if len(k3)>=2:\n",
    "            return k3[0]\n",
    "        else:\n",
    "            return k[0]\n",
    "    if len(k2)>=2:\n",
    "        return k2[0]\n",
    "    return ans"
   ]
  },
  {
   "cell_type": "code",
   "execution_count": null,
   "metadata": {},
   "outputs": [],
   "source": [
    "import pandas as pd\n",
    "import tqdm\n",
    "import warnings\n",
    "warnings.filterwarnings('ignore')\n",
    "dat=[]\n",
    "cnt=0\n",
    "df=pd.read_excel(r\"data/KUET information2k20.xlsx\")\n",
    "df.head()\n",
    "for id,ques in tqdm.tqdm(zip(df['id'],df['Question'])):\n",
    "    ans=ans_ret(ques,\"\")\n",
    "    # print(ans)\n",
    "    dat.append({\n",
    "        \"id\":id,\n",
    "        \"question\":ques,\n",
    "        \"answer\":ans\n",
    "    })\n",
    "    # if cnt==5:\n",
    "    #     break\n",
    "    # cnt+=1\n",
    "    "
   ]
  },
  {
   "cell_type": "code",
   "execution_count": null,
   "metadata": {},
   "outputs": [],
   "source": [
    "sa=pd.DataFrame(dat)\n",
    "model_ans=\"model_ans_llama_finetuned_rag_colbert\"\n",
    "sa.to_excel(f\"data//{model_ans}.xlsx\",index=False)"
   ]
  },
  {
   "cell_type": "code",
   "execution_count": null,
   "metadata": {},
   "outputs": [],
   "source": []
  }
 ],
 "metadata": {
  "kernelspec": {
   "display_name": "llmtesting",
   "language": "python",
   "name": "python3"
  },
  "language_info": {
   "codemirror_mode": {
    "name": "ipython",
    "version": 3
   },
   "file_extension": ".py",
   "mimetype": "text/x-python",
   "name": "python",
   "nbconvert_exporter": "python",
   "pygments_lexer": "ipython3",
   "version": "3.9.18"
  }
 },
 "nbformat": 4,
 "nbformat_minor": 2
}
