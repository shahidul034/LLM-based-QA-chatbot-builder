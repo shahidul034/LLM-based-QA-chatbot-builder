{
 "cells": [
  {
   "cell_type": "code",
   "execution_count": 50,
   "metadata": {},
   "outputs": [
    {
     "data": {
      "text/html": [
       "<div>\n",
       "<style scoped>\n",
       "    .dataframe tbody tr th:only-of-type {\n",
       "        vertical-align: middle;\n",
       "    }\n",
       "\n",
       "    .dataframe tbody tr th {\n",
       "        vertical-align: top;\n",
       "    }\n",
       "\n",
       "    .dataframe thead th {\n",
       "        text-align: right;\n",
       "    }\n",
       "</style>\n",
       "<table border=\"1\" class=\"dataframe\">\n",
       "  <thead>\n",
       "    <tr style=\"text-align: right;\">\n",
       "      <th></th>\n",
       "      <th>id</th>\n",
       "      <th>question</th>\n",
       "      <th>answer</th>\n",
       "    </tr>\n",
       "  </thead>\n",
       "  <tbody>\n",
       "    <tr>\n",
       "      <th>0</th>\n",
       "      <td>1</td>\n",
       "      <td>How many students can study in CSE,Civil, EEE ...</td>\n",
       "      <td>Each of the departments - CSE, Civil, EEE, a...</td>\n",
       "    </tr>\n",
       "    <tr>\n",
       "      <th>1</th>\n",
       "      <td>2</td>\n",
       "      <td>What does KUET stands for?</td>\n",
       "      <td>KUET stands for Khulna University of Engineer...</td>\n",
       "    </tr>\n",
       "    <tr>\n",
       "      <th>2</th>\n",
       "      <td>3</td>\n",
       "      <td>Where is the Academic building ar located in t...</td>\n",
       "      <td>\\nThe Academic building is located to the left...</td>\n",
       "    </tr>\n",
       "    <tr>\n",
       "      <th>3</th>\n",
       "      <td>4</td>\n",
       "      <td>How many hall are allocated for Boys in KUET?</td>\n",
       "      <td>There are six halls for boys at KUET.</td>\n",
       "    </tr>\n",
       "    <tr>\n",
       "      <th>4</th>\n",
       "      <td>5</td>\n",
       "      <td>Where is KUET located?</td>\n",
       "      <td>KUET is located at Fulbarigate, 11 km north f...</td>\n",
       "    </tr>\n",
       "  </tbody>\n",
       "</table>\n",
       "</div>"
      ],
      "text/plain": [
       "   id                                           question  \\\n",
       "0   1  How many students can study in CSE,Civil, EEE ...   \n",
       "1   2                        What does KUET stands for?    \n",
       "2   3  Where is the Academic building ar located in t...   \n",
       "3   4     How many hall are allocated for Boys in KUET?    \n",
       "4   5                             Where is KUET located?   \n",
       "\n",
       "                                              answer  \n",
       "0    Each of the departments - CSE, Civil, EEE, a...  \n",
       "1   KUET stands for Khulna University of Engineer...  \n",
       "2  \\nThe Academic building is located to the left...  \n",
       "3              There are six halls for boys at KUET.  \n",
       "4   KUET is located at Fulbarigate, 11 km north f...  "
      ]
     },
     "execution_count": 50,
     "metadata": {},
     "output_type": "execute_result"
    }
   ],
   "source": [
    "import pandas as pd\n",
    "ff=\"model_ans_mistral_finetuned_486_colbert\"\n",
    "df=pd.read_excel(r\"C:\\Users\\Andromeda\\Desktop\\Misc-project\\KUET LLM\\excel file\\new\\mistral\\model_ans_mistral_finetuned_486_colbert.xlsx\")\n",
    "global cnt\n",
    "cnt=0\n",
    "df.head()"
   ]
  },
  {
   "cell_type": "code",
   "execution_count": 51,
   "metadata": {},
   "outputs": [
    {
     "data": {
      "text/plain": [
       "'2024_03_25_13_51_20model_ans_mistral_finetuned_486_colbert'"
      ]
     },
     "execution_count": 51,
     "metadata": {},
     "output_type": "execute_result"
    }
   ],
   "source": [
    "data=[]\n",
    "import datetime\n",
    "current_datetime = datetime.datetime.now()\n",
    "file_name = current_datetime.strftime(\"%Y_%m_%d_%H_%M_%S\")+ff\n",
    "file_name"
   ]
  },
  {
   "cell_type": "code",
   "execution_count": 52,
   "metadata": {},
   "outputs": [],
   "source": [
    "def random_ques_ans():\n",
    "    import random\n",
    "    # id=random.randint(0,len(df)-1)\n",
    "    global cnt\n",
    "    id=int((df.loc[cnt])['id'])\n",
    "    ques_temp=(df.loc[cnt])['question']\n",
    "    ans_temp=(df.loc[cnt])['answer']\n",
    "    cnt+=1\n",
    "    if cnt>=len(df):\n",
    "        cnt=0\n",
    "        return ques_temp,ans_temp,id,0\n",
    "\n",
    "    return ques_temp,ans_temp,id,1"
   ]
  },
  {
   "cell_type": "code",
   "execution_count": 53,
   "metadata": {},
   "outputs": [],
   "source": [
    "# def correct_cnt(ques,ans):\n",
    "#     data.append({\n",
    "#         \"question\":ques,\n",
    "#         'answer':ans,\n",
    "#         'correct_wrong':'correct'\n",
    "#     })\n",
    "#     if len(data)%10==0:\n",
    "#         temp=pd.DataFrame(data)\n",
    "#         temp.to_excel(f\"data//{file_name}.xlsx\",index=False)\n",
    "#     ques_temp,ans_temp=random_ques_ans()\n",
    "#     gr.Info(\"Your opinion is submitted successfully!!!\")\n",
    "#     return gr.Label(value=ques_temp, label=\"Question\"), gr.Label(value=ans_temp, label=\"Answer\")\n",
    "    \n",
    "# def wrong_cnt(ques,ans):\n",
    "#     data.append({\n",
    "#         \"question\":ques,\n",
    "#         'answer':ans,\n",
    "#         'correct_wrong':'wrong'\n",
    "#     })\n",
    "#     if len(data)%10==0:\n",
    "#         temp=pd.DataFrame(data)\n",
    "#         temp.to_excel(f\"data//{file_name}.xlsx\",index=False)\n",
    "#     ques_temp,ans_temp=random_ques_ans()\n",
    "#     gr.Info(\"Your opinion is submitted successfully!!!\")\n",
    "#     return gr.Label(value=ques_temp, label=\"Question\"), gr.Label(value=ans_temp, label=\"Answer\")\n",
    "# def new_ques():\n",
    "#     ques_temp,ans_temp=random_ques_ans()\n",
    "#     return {\n",
    "#         ques:gr.Label(value=ques_temp,label=\"Question\"),\n",
    "#         ans:gr.Label(value=ans_temp,label=\"Answer\")\n",
    "#     }"
   ]
  },
  {
   "cell_type": "code",
   "execution_count": 54,
   "metadata": {},
   "outputs": [],
   "source": [
    "def save_all():\n",
    "    temp=pd.DataFrame(data)\n",
    "    temp.to_excel(f\"C:\\\\Users\\\\Andromeda\\\\Desktop\\\\Misc-project\\\\KUET LLM\\\\score_report\\\\{file_name}.xlsx\",index=False)\n",
    "    # temp.to_excel(f\"score_report//{file_name}.xlsx\",index=False)\n",
    "    gr.Info(\"Sucessfully save all the answer!!!\")\n",
    "def score_save(ques,ans,score):\n",
    "    data.append({\n",
    "        \"question\":ques,\n",
    "        'answer':ans,\n",
    "        'rating':score\n",
    "    })\n",
    "    print('*'*10,\":\",data[len(data)-1])\n",
    "    if len(data)%5==0:\n",
    "        temp=pd.DataFrame(data)\n",
    "        temp.to_excel(f\"C:\\\\Users\\\\Andromeda\\\\Desktop\\\\Misc-project\\\\KUET LLM\\\\score_report\\\\{file_name}.xlsx\",index=False)\n",
    "    ques_temp,ans_temp,id,flag=random_ques_ans()\n",
    "    # if flag==0:\n",
    "    #     temp=pd.DataFrame(data)\n",
    "    #     temp.to_excel(f\"score_report//{file_name}.xlsx\",index=False)\n",
    "    #     gr.Info(\"Thank for your contribution. Revision is completed for now!!!\")\n",
    "    #     assert(False)\n",
    "    gr.Info(\"Your opinion is submitted successfully!!!\")\n",
    "    return gr.Label(value=id,label=\"ID\"),gr.Label(value=ques_temp, label=\"Question\"), gr.Label(value=ans_temp, label=\"Answer\")\n",
    "def new_ques():\n",
    "    ques_temp,ans_temp,id2,flag=random_ques_ans()\n",
    "    # if flag==0:\n",
    "    #     temp=pd.DataFrame(data)\n",
    "    #     temp.to_excel(f\"score_report//{file_name}.xlsx\",index=False)\n",
    "    #     gr.Info(\"Thank for your contribution. Revision is completed for now!!!\")\n",
    "    #     assert(False)\n",
    "    return {\n",
    "        id:gr.Label(value=id2,label=\"ID\"),\n",
    "        ques:gr.Label(value=ques_temp,label=\"Question\"),\n",
    "        ans:gr.Label(value=ans_temp,label=\"Answer\")\n",
    "    }"
   ]
  },
  {
   "cell_type": "code",
   "execution_count": 55,
   "metadata": {},
   "outputs": [],
   "source": [
    "def move_to(move):\n",
    "    if int(move)>=len(df)+1:\n",
    "        gr.Info(f\"Number . of questions: {len(df)}\")\n",
    "        move=0\n",
    "    id_temp=(df.loc[move-1])['id']   \n",
    "    ques_temp=(df.loc[move-1])['question']\n",
    "    ans_temp=(df.loc[move-1])['answer']\n",
    "    return {\n",
    "        id:gr.Label(value=str(id_temp),label=\"ID\"),\n",
    "        ques:gr.Label(value=ques_temp,label=\"Question\"),\n",
    "        ans:gr.Label(value=ans_temp,label=\"Answer\")\n",
    "    }"
   ]
  },
  {
   "cell_type": "code",
   "execution_count": 56,
   "metadata": {},
   "outputs": [],
   "source": [
    "# import os\n",
    "# import signal\n",
    "# import subprocess\n",
    "\n",
    "# command = \"netstat -ano | findstr 7882\"\n",
    "# c = subprocess.Popen(command, shell=True, stdout=subprocess.PIPE, stderr = subprocess.PIPE)\n",
    "# stdout, stderr = c.communicate()\n",
    "# pid = int(stdout.decode().strip().split(' ')[-1])\n",
    "# os.kill(pid, signal.SIGTERM)"
   ]
  },
  {
   "cell_type": "code",
   "execution_count": 57,
   "metadata": {},
   "outputs": [
    {
     "name": "stdout",
     "output_type": "stream",
     "text": [
      "Running on local URL:  http://127.0.0.1:7866\n",
      "Running on public URL: https://b9ae46689d84f8765b.gradio.live\n",
      "\n",
      "This share link expires in 72 hours. For free permanent hosting and GPU upgrades, run `gradio deploy` from Terminal to deploy to Spaces (https://huggingface.co/spaces)\n"
     ]
    },
    {
     "data": {
      "text/html": [
       "<div><iframe src=\"https://b9ae46689d84f8765b.gradio.live\" width=\"100%\" height=\"500\" allow=\"autoplay; camera; microphone; clipboard-read; clipboard-write;\" frameborder=\"0\" allowfullscreen></iframe></div>"
      ],
      "text/plain": [
       "<IPython.core.display.HTML object>"
      ]
     },
     "metadata": {},
     "output_type": "display_data"
    },
    {
     "data": {
      "text/plain": []
     },
     "execution_count": 57,
     "metadata": {},
     "output_type": "execute_result"
    }
   ],
   "source": [
    "import gradio as gr\n",
    "import pandas as pd\n",
    "css = \"\"\"\n",
    "#accepted {background-color: green;align-content: center;font: 30px Arial, sans-serif;}\n",
    "#wrong {background-color: red;align-content: center;font: 30px Arial, sans-serif;}\n",
    "#already {background-color: blue;align-content: center;font: 30px Arial, sans-serif;}\n",
    "\"\"\"\n",
    "ques_temp,ans_temp,id_temp,flag=random_ques_ans()\n",
    "with gr.Blocks(css=css) as demo:\n",
    "    gr.Markdown(\n",
    "    f\"\"\"\n",
    "    # Model name: {ff}\n",
    "    # No. of questions:{len(df)} \n",
    "    \n",
    "    \"\"\")\n",
    "    with gr.Row():\n",
    "        id=gr.Label(value=id_temp,label=\"ID\")\n",
    "        # avg_rating=gr.Label(visible=False)\n",
    "    with gr.Row():\n",
    "        ques=gr.Label(value=ques_temp,label=\"Question\")\n",
    "    with gr.Row():\n",
    "        ans=gr.Label(value=ans_temp,label=\"Answer\")\n",
    "    with gr.Row():\n",
    "        # correct = gr.Button(\"Correct\")\n",
    "        # wrong = gr.Button(\"Wrong\")\n",
    "        score = gr.Radio(choices=[1,2,3,4,5],label=\"Rating\")\n",
    "    with gr.Row():\n",
    "        btn = gr.Button(\"Save\")\n",
    "        question = gr.Button(\"Generate new question\")\n",
    "    with gr.Row():\n",
    "        save_all_btn=gr.Button(\"Save all the data in dataframe\")\n",
    "    with gr.Row():\n",
    "        move=gr.Number(label=\"Move to the question\")\n",
    "        move_btn=gr.Button(\"move\")\n",
    "    # correct.click(correct_cnt,[ques,ans],[ques,ans])\n",
    "    # wrong.click(wrong_cnt,[ques,ans],[ques,ans])\n",
    "    \n",
    "    btn.click(score_save, inputs=[ques,ans,score], outputs=[id,ques,ans])\n",
    "    question.click(new_ques,None,[id,ques,ans])\n",
    "    save_all_btn.click(save_all,None,None)\n",
    "    move_btn.click(move_to,move,[id,ques,ans])\n",
    "    \n",
    "\n",
    "demo.launch(share=True)"
   ]
  },
  {
   "cell_type": "code",
   "execution_count": null,
   "metadata": {},
   "outputs": [],
   "source": []
  }
 ],
 "metadata": {
  "kernelspec": {
   "display_name": "ai_clssifier",
   "language": "python",
   "name": "python3"
  },
  "language_info": {
   "codemirror_mode": {
    "name": "ipython",
    "version": 3
   },
   "file_extension": ".py",
   "mimetype": "text/x-python",
   "name": "python",
   "nbconvert_exporter": "python",
   "pygments_lexer": "ipython3",
   "version": "3.10.13"
  }
 },
 "nbformat": 4,
 "nbformat_minor": 2
}
