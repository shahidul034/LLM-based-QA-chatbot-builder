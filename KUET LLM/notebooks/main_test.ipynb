{
 "cells": [
  {
   "cell_type": "code",
   "execution_count": null,
   "metadata": {},
   "outputs": [],
   "execution_count": 10,
   "metadata": {},
   "outputs": [
    {
     "data": {
      "text/html": [
       "<div>\n",
       "<style scoped>\n",
       "    .dataframe tbody tr th:only-of-type {\n",
       "        vertical-align: middle;\n",
       "    }\n",
       "\n",
       "    .dataframe tbody tr th {\n",
       "        vertical-align: top;\n",
       "    }\n",
       "\n",
       "    .dataframe thead th {\n",
       "        text-align: right;\n",
       "    }\n",
       "</style>\n",
       "<table border=\"1\" class=\"dataframe\">\n",
       "  <thead>\n",
       "    <tr style=\"text-align: right;\">\n",
       "      <th></th>\n",
       "      <th>id</th>\n",
       "      <th>question</th>\n",
       "      <th>answer</th>\n",
       "    </tr>\n",
       "  </thead>\n",
       "  <tbody>\n",
       "    <tr>\n",
       "      <th>0</th>\n",
       "      <td>1</td>\n",
       "      <td>How many students can study in CSE,Civil, EEE ...</td>\n",
       "      <td>According to the context, the number of stude...</td>\n",
       "    </tr>\n",
       "    <tr>\n",
       "      <th>1</th>\n",
       "      <td>2</td>\n",
       "      <td>What does KUET stands for?</td>\n",
       "      <td>KUET stands for Khulna University of Engineer...</td>\n",
       "    </tr>\n",
       "    <tr>\n",
       "      <th>2</th>\n",
       "      <td>3</td>\n",
       "      <td>Where is the Academic building ar located in t...</td>\n",
       "      <td>The Academic building is located on the left ...</td>\n",
       "    </tr>\n",
       "    <tr>\n",
       "      <th>3</th>\n",
       "      <td>4</td>\n",
       "      <td>How many hall are allocated for Boys in KUET?</td>\n",
       "      <td>According to the context, there are six halls...</td>\n",
       "    </tr>\n",
       "    <tr>\n",
       "      <th>4</th>\n",
       "      <td>5</td>\n",
       "      <td>Where is KUET located?</td>\n",
       "      <td>KUET is located in Fulbarigate, Khulna, appro...</td>\n",
       "    </tr>\n",
       "  </tbody>\n",
       "</table>\n",
       "</div>"
      ],
      "text/plain": [
       "   id                                           question  \\\n",
       "0   1  How many students can study in CSE,Civil, EEE ...   \n",
       "1   2                        What does KUET stands for?    \n",
       "2   3  Where is the Academic building ar located in t...   \n",
       "3   4     How many hall are allocated for Boys in KUET?    \n",
       "4   5                             Where is KUET located?   \n",
       "\n",
       "                                              answer  \n",
       "0   According to the context, the number of stude...  \n",
       "1   KUET stands for Khulna University of Engineer...  \n",
       "2   The Academic building is located on the left ...  \n",
       "3   According to the context, there are six halls...  \n",
       "4   KUET is located in Fulbarigate, Khulna, appro...  "
      ]
     },
     "execution_count": 10,
     "metadata": {},
     "output_type": "execute_result"
    }
   ],
   "source": [
    "import pandas as pd\n",
    "ff=\"model_ans_llama_finetuned_486_rag_colbert\"\n",
    "path=r\"C:\\Users\\Andromeda\\Desktop\\Misc-project\\KUET LLM\\excel file\\new\\llama\\model_ans_llama_finetuned_486_rag_colbert.xlsx\"\n",
    "tt=path.split(\"\\\\\")\n",
    "tt2=tt[len(tt)-1].split(\".\")[0]\n",
    "if ff!=tt2:\n",
    "    assert(False)\n",
    "df=pd.read_excel(path)\n",
    "global cnt\n",
    "cnt=0\n",
    "df.head()"
   ]
  },
  {
   "cell_type": "code",
   "execution_count": null,
   "metadata": {},
   "outputs": [],
   "execution_count": 11,
   "metadata": {},
   "outputs": [],
   "source": [
    "id_ques={}\n",
    "for x,y in zip(df['id'],df['question']):\n",
    "    id_ques[y]=x"
   ]
  },
  {
   "cell_type": "code",
   "execution_count": 12,
   "metadata": {},
   "outputs": [
    {
     "data": {
      "text/plain": [
       "'2024_03_26_22_42_56model_ans_llama_finetuned_486_rag_colbert'"
      ]
     },
     "execution_count": 12,
     "metadata": {},
     "output_type": "execute_result"
    }
   ],
   "source": [
    "data=[]\n",
    "import datetime\n",
    "current_datetime = datetime.datetime.now()\n",
    "file_name = current_datetime.strftime(\"%Y_%m_%d_%H_%M_%S\")+ff\n",
    "file_name"
   ]
  },
  {
   "cell_type": "code",
   "execution_count": null,
   "execution_count": 13,
   "metadata": {},
   "outputs": [],
   "source": [
    "def random_ques_ans():\n",
    "    import random\n",
    "    # id=random.randint(0,len(df)-1)\n",
    "    global cnt\n",
    "    id=int((df.loc[cnt])['id'])\n",
    "    ques_temp=(df.loc[cnt])['question']\n",
    "    ans_temp=(df.loc[cnt])['answer']\n",
    "    cnt+=1\n",
    "    if cnt>=len(df):\n",
    "        cnt=0\n",
    "        return ques_temp,ans_temp,id,0\n",
    "\n",
    "    return ques_temp,ans_temp,id,1"
   ]
  },
  {
   "cell_type": "code",

   "execution_count": null,

   "execution_count": 14,

   "metadata": {},
   "outputs": [],
   "source": [
    "# def correct_cnt(ques,ans):\n",
    "#     data.append({\n",
    "#         \"question\":ques,\n",
    "#         'answer':ans,\n",
    "#         'correct_wrong':'correct'\n",
    "#     })\n",
    "#     if len(data)%10==0:\n",
    "#         temp=pd.DataFrame(data)\n",
    "#         temp.to_excel(f\"data//{file_name}.xlsx\",index=False)\n",
    "#     ques_temp,ans_temp=random_ques_ans()\n",
    "#     gr.Info(\"Your opinion is submitted successfully!!!\")\n",
    "#     return gr.Label(value=ques_temp, label=\"Question\"), gr.Label(value=ans_temp, label=\"Answer\")\n",
    "    \n",
    "# def wrong_cnt(ques,ans):\n",
    "#     data.append({\n",
    "#         \"question\":ques,\n",
    "#         'answer':ans,\n",
    "#         'correct_wrong':'wrong'\n",
    "#     })\n",
    "#     if len(data)%10==0:\n",
    "#         temp=pd.DataFrame(data)\n",
    "#         temp.to_excel(f\"data//{file_name}.xlsx\",index=False)\n",
    "#     ques_temp,ans_temp=random_ques_ans()\n",
    "#     gr.Info(\"Your opinion is submitted successfully!!!\")\n",
    "#     return gr.Label(value=ques_temp, label=\"Question\"), gr.Label(value=ans_temp, label=\"Answer\")\n",
    "# def new_ques():\n",
    "#     ques_temp,ans_temp=random_ques_ans()\n",
    "#     return {\n",
    "#         ques:gr.Label(value=ques_temp,label=\"Question\"),\n",
    "#         ans:gr.Label(value=ans_temp,label=\"Answer\")\n",
    "#     }"
   ]
  },
  {
   "cell_type": "code",

   "execution_count": null,

   "execution_count": 15,

   "metadata": {},
   "outputs": [],
   "source": [
    "def save_all():\n",
    "    temp=pd.DataFrame(data)\n",
    "    temp.to_excel(f\"C:\\\\Users\\\\Andromeda\\\\Desktop\\\\Misc-project\\\\KUET LLM\\\\score_report\\\\{file_name}.xlsx\",index=False)\n",
    "    # temp.to_excel(f\"score_report//{file_name}.xlsx\",index=False)\n",
    "    gr.Info(\"Sucessfully save all the answer!!!\")\n",
    "def score_save(ques,ans,score):\n",
    "    data.append({\n",
    "        \"question\":ques,\n",
    "        'answer':ans,\n",
    "        'rating':score\n",
    "    })\n",
    "    print('*'*10,\" id:\",id_ques[ques])\n",
    "    if len(data)%5==0:\n",
    "        temp=pd.DataFrame(data)\n",
    "        temp.to_excel(f\"C:\\\\Users\\\\Andromeda\\\\Desktop\\\\Misc-project\\\\KUET LLM\\\\score_report\\\\{file_name}.xlsx\",index=False)\n",
    "    ques_temp,ans_temp,id,flag=random_ques_ans()\n",
    "    # if flag==0:\n",
    "    #     temp=pd.DataFrame(data)\n",
    "    #     temp.to_excel(f\"score_report//{file_name}.xlsx\",index=False)\n",
    "    #     gr.Info(\"Thank for your contribution. Revision is completed for now!!!\")\n",
    "    #     assert(False)\n",
    "    gr.Info(\"Your opinion is submitted successfully!!!\")\n",
    "    return gr.Label(value=id,label=\"ID\"),gr.Label(value=ques_temp, label=\"Question\"), gr.Label(value=ans_temp, label=\"Answer\")\n",
    "def new_ques():\n",
    "    ques_temp,ans_temp,id2,flag=random_ques_ans()\n",
    "    # if flag==0:\n",
    "    #     temp=pd.DataFrame(data)\n",
    "    #     temp.to_excel(f\"score_report//{file_name}.xlsx\",index=False)\n",
    "    #     gr.Info(\"Thank for your contribution. Revision is completed for now!!!\")\n",
    "    #     assert(False)\n",
    "    return {\n",
    "        id:gr.Label(value=id2,label=\"ID\"),\n",
    "        ques:gr.Label(value=ques_temp,label=\"Question\"),\n",
    "        ans:gr.Label(value=ans_temp,label=\"Answer\")\n",
    "    }"
   ]
  },
  {
   "cell_type": "code",

   "execution_count": null,

   "execution_count": 16,

   "metadata": {},
   "outputs": [],
   "source": [
    "def move_to(move):\n",
    "    if int(move)>=len(df)+1:\n",
    "        gr.Info(f\"Number . of questions: {len(df)}\")\n",
    "        move=0\n",
    "    id_temp=(df.loc[move-1])['id']   \n",
    "    ques_temp=(df.loc[move-1])['question']\n",
    "    ans_temp=(df.loc[move-1])['answer']\n",
    "    return {\n",
    "        id:gr.Label(value=str(id_temp),label=\"ID\"),\n",
    "        ques:gr.Label(value=ques_temp,label=\"Question\"),\n",
    "        ans:gr.Label(value=ans_temp,label=\"Answer\")\n",
    "    }"
   ]
  },
  {
   "cell_type": "code",

   "execution_count": null,

   "execution_count": 17,

   "metadata": {},
   "outputs": [],
   "source": [
    "# import os\n",
    "# import signal\n",
    "# import subprocess\n",
    "\n",
    "# command = \"netstat -ano | findstr 7882\"\n",
    "# c = subprocess.Popen(command, shell=True, stdout=subprocess.PIPE, stderr = subprocess.PIPE)\n",
    "# stdout, stderr = c.communicate()\n",
    "# pid = int(stdout.decode().strip().split(' ')[-1])\n",
    "# os.kill(pid, signal.SIGTERM)"
   ]
  },
  {
   "cell_type": "code",

   "execution_count": null,
   "metadata": {},
   "outputs": [],

   "execution_count": 18,
   "metadata": {},
   "outputs": [
    {
     "name": "stdout",
     "output_type": "stream",
     "text": [
      "Running on local URL:  http://127.0.0.1:7861\n",
      "Running on public URL: https://9c278a02cb303678d7.gradio.live\n",
      "\n",
      "This share link expires in 72 hours. For free permanent hosting and GPU upgrades, run `gradio deploy` from Terminal to deploy to Spaces (https://huggingface.co/spaces)\n"
     ]
    },
    {
     "data": {
      "text/html": [
       "<div><iframe src=\"https://9c278a02cb303678d7.gradio.live\" width=\"100%\" height=\"500\" allow=\"autoplay; camera; microphone; clipboard-read; clipboard-write;\" frameborder=\"0\" allowfullscreen></iframe></div>"
      ],
      "text/plain": [
       "<IPython.core.display.HTML object>"
      ]
     },
     "metadata": {},
     "output_type": "display_data"
    },
    {
     "data": {
      "text/plain": []
     },
     "execution_count": 18,
     "metadata": {},
     "output_type": "execute_result"
    },
    {
     "name": "stdout",
     "output_type": "stream",
     "text": [
      "**********  id: 1\n",
      "**********  id: 2\n",
      "**********  id: 3\n",
      "**********  id: 4\n",
      "**********  id: 110\n",
      "**********  id: 125\n",
      "**********  id: 7\n",
      "**********  id: 8\n",
      "**********  id: 9\n",
      "**********  id: 10\n",
      "**********  id: 11\n",
      "**********  id: 35\n",
      "**********  id: 13\n",
      "**********  id: 14\n",
      "**********  id: 15\n",
      "**********  id: 16\n",
      "**********  id: 17\n",
      "**********  id: 18\n",
      "**********  id: 19\n",
      "**********  id: 20\n",
      "**********  id: 21\n",
      "**********  id: 22\n",
      "**********  id: 23\n",
      "**********  id: 24\n",
      "**********  id: 25\n",
      "**********  id: 26\n",
      "**********  id: 27\n",
      "**********  id: 28\n",
      "**********  id: 29\n",
      "**********  id: 30\n",
      "**********  id: 31\n",
      "**********  id: 32\n",
      "**********  id: 125\n",
      "**********  id: 34\n",
      "**********  id: 34\n",
      "**********  id: 36\n",
      "**********  id: 37\n",
      "**********  id: 35\n",
      "**********  id: 39\n",
      "**********  id: 40\n",
      "**********  id: 41\n",
      "**********  id: 42\n",
      "**********  id: 43\n",
      "**********  id: 44\n",
      "**********  id: 45\n",
      "**********  id: 46\n",
      "**********  id: 47\n",
      "**********  id: 1\n",
      "**********  id: 48\n",
      "**********  id: 50\n",
      "**********  id: 51\n",
      "**********  id: 52\n",
      "**********  id: 53\n",
      "**********  id: 54\n",
      "**********  id: 55\n",
      "**********  id: 56\n",
      "**********  id: 57\n",
      "**********  id: 58\n",
      "**********  id: 59\n",
      "**********  id: 60\n",
      "**********  id: 61\n",
      "**********  id: 62\n",
      "**********  id: 63\n",
      "**********  id: 64\n",
      "**********  id: 65\n",
      "**********  id: 66\n",
      "**********  id: 67\n",
      "**********  id: 68\n",
      "**********  id: 69\n",
      "**********  id: 70\n",
      "**********  id: 71\n",
      "**********  id: 72\n",
      "**********  id: 73\n",
      "**********  id: 74\n",
      "**********  id: 75\n",
      "**********  id: 76\n",
      "**********  id: 77\n",
      "**********  id: 78\n",
      "**********  id: 79\n",
      "**********  id: 80\n",
      "**********  id: 81\n",
      "**********  id: 82\n",
      "**********  id: 83\n",
      "**********  id: 84\n",
      "**********  id: 85\n",
      "**********  id: 86\n",
      "**********  id: 87\n",
      "**********  id: 88\n",
      "**********  id: 99\n",
      "**********  id: 90\n",
      "**********  id: 91\n",
      "**********  id: 92\n",
      "**********  id: 93\n",
      "**********  id: 94\n",
      "**********  id: 95\n",
      "**********  id: 96\n",
      "**********  id: 97\n",
      "**********  id: 98\n",
      "**********  id: 99\n",
      "**********  id: 100\n"
     ]
    }
   ],

   "source": [
    "import gradio as gr\n",
    "import pandas as pd\n",
    "css = \"\"\"\n",
    "#accepted {background-color: green;align-content: center;font: 30px Arial, sans-serif;}\n",
    "#wrong {background-color: red;align-content: center;font: 30px Arial, sans-serif;}\n",
    "#already {background-color: blue;align-content: center;font: 30px Arial, sans-serif;}\n",
    "\"\"\"\n",
    "ques_temp,ans_temp,id_temp,flag=random_ques_ans()\n",
    "with gr.Blocks(css=css) as demo:\n",
    "    gr.Markdown(\n",
    "    f\"\"\"\n",
    "    # Model name: {ff}\n",
    "    # No. of questions:{len(df)} \n",
    "    \n",
    "    \"\"\")\n",
    "    with gr.Row():\n",
    "        id=gr.Label(value=id_temp,label=\"ID\")\n",
    "        # avg_rating=gr.Label(visible=False)\n",
    "    with gr.Row():\n",
    "        ques=gr.Label(value=ques_temp,label=\"Question\")\n",
    "    with gr.Row():\n",
    "        ans=gr.Label(value=ans_temp,label=\"Answer\")\n",
    "    with gr.Row():\n",
    "        # correct = gr.Button(\"Correct\")\n",
    "        # wrong = gr.Button(\"Wrong\")\n",
    "        score = gr.Radio(choices=[1,2,3,4,5],label=\"Rating\")\n",
    "    with gr.Row():\n",
    "        btn = gr.Button(\"Save\")\n",
    "        question = gr.Button(\"Generate new question\")\n",
    "    with gr.Row():\n",
    "        save_all_btn=gr.Button(\"Save all the data in dataframe\")\n",
    "    with gr.Row():\n",
    "        move=gr.Number(label=\"Move to the question\")\n",
    "        move_btn=gr.Button(\"move\")\n",
    "    # correct.click(correct_cnt,[ques,ans],[ques,ans])\n",
    "    # wrong.click(wrong_cnt,[ques,ans],[ques,ans])\n",
    "    \n",
    "    btn.click(score_save, inputs=[ques,ans,score], outputs=[id,ques,ans])\n",
    "    question.click(new_ques,None,[id,ques,ans])\n",
    "    save_all_btn.click(save_all,None,None)\n",
    "    move_btn.click(move_to,move,[id,ques,ans])\n",
    "    \n",
    "\n",
    "demo.launch(share=False)"
   ]
  },
  {
   "cell_type": "code",
   "execution_count": null,
   "metadata": {},
   "outputs": [],
   "source": []
  }
 ],
 "metadata": {
  "kernelspec": {
   "display_name": "ai_clssifier",
   "language": "python",
   "name": "python3"
  },
  "language_info": {
   "codemirror_mode": {
    "name": "ipython",
    "version": 3
   },
   "file_extension": ".py",
   "mimetype": "text/x-python",
   "name": "python",
   "nbconvert_exporter": "python",
   "pygments_lexer": "ipython3",
   "version": "3.10.13"
  }
 },
 "nbformat": 4,
 "nbformat_minor": 2
}
