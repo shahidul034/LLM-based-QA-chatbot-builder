{
 "cells": [
  {
   "cell_type": "code",
   "execution_count": null,
   "metadata": {},
   "outputs": [],
   "source": [
    "import os\n",
    "import torch\n",
    "from datasets import load_dataset, Dataset\n",
    "import pandas as pd\n",
    "import transformers\n",
    "from transformers import AutoTokenizer, AutoModelForCausalLM, BitsAndBytesConfig\n",
    "from trl import SFTTrainer\n",
    "import transformers\n",
    "# from peft import AutoPeftModelForCausalLM\n",
    "from transformers import GenerationConfig\n",
    "from pynvml import *\n",
    "import glob\n",
    "\n"
   ]
  },
  {
   "cell_type": "code",
   "execution_count": null,
   "metadata": {},
   "outputs": [],
   "source": [
    "base_model = \"NousResearch/Llama-2-7b-chat-hf\"\n",
    "lora_output = 'models/lora_KUET_LLM_llama'\n",
    "full_output = 'models/full_KUET_LLM_llama'\n",
    "DEVICE = 'cuda'"
   ]
  },
  {
   "cell_type": "code",
   "execution_count": null,
   "metadata": {},
   "outputs": [],
   "source": [
    "# from huggingface_hub import login\n",
    "# # huggingface token for uploading\n",
    "# token = \"\"\n",
    "# login(token) "
   ]
  },
  {
   "cell_type": "code",
   "execution_count": null,
   "metadata": {},
   "outputs": [],
   "source": [
    "bnb_config = BitsAndBytesConfig(  \n",
    "    load_in_8bit= True,\n",
    "#     bnb_4bit_quant_type= \"nf4\",\n",
    "#     bnb_4bit_compute_dtype= torch.bfloat16,\n",
    "#     bnb_4bit_use_double_quant= False,\n",
    ")\n",
    "model = AutoModelForCausalLM.from_pretrained(\n",
    "        base_model,\n",
    "        # load_in_4bit=True,\n",
    "        quantization_config=bnb_config,\n",
    "        torch_dtype=torch.bfloat16,\n",
    "        device_map=\"auto\",\n",
    "        trust_remote_code=True,\n",
    ")\n",
    "model.config.use_cache = False # silence the warnings\n",
    "model.config.pretraining_tp = 1\n",
    "model.gradient_checkpointing_enable()"
   ]
  },
  {
   "cell_type": "code",
   "execution_count": null,
   "metadata": {},
   "outputs": [],
   "source": [
    "tokenizer = AutoTokenizer.from_pretrained(base_model, trust_remote_code=True)\n",
    "tokenizer.padding_side = 'right'\n",
    "tokenizer.pad_token = tokenizer.eos_token\n",
    "tokenizer.add_eos_token = True\n",
    "tokenizer.add_bos_token, tokenizer.add_eos_token"
   ]
  },
  {
   "cell_type": "code",
   "execution_count": null,
   "metadata": {},
   "outputs": [],
   "source": [
    "data_location = r\"/home/sdm/Desktop/shakib/KUET LLM/data/dataset_shakibV2.xlsx\" ## replace here\n",
    "data_df=pd.read_excel( data_location )"
   ]
  },
  {
   "cell_type": "code",
   "execution_count": null,
   "metadata": {},
   "outputs": [],
   "source": [
    "\n",
    "for i in range(len(data_df)):\n",
    "\n",
    "    data_df.loc[i,'Text']=\"### Instruction:\"+str(data_df.loc[i,'Prompt'])+\"### Response:\"+str(data_df.loc[i,'Reply'])"
   ]
  },
  {
   "cell_type": "code",
   "execution_count": null,
   "metadata": {},
   "outputs": [],
   "source": [
    "dataset = Dataset.from_pandas(data_df)"
   ]
  },
  {
   "cell_type": "code",
   "execution_count": null,
   "metadata": {},
   "outputs": [],
   "source": [
    "print(dataset[0]['Text'])"
   ]
  },
  {
   "cell_type": "code",
   "execution_count": null,
   "metadata": {},
   "outputs": [],
   "source": [
    "# Set PEFT adapter config (16:32)\n",
    "from peft import LoraConfig, get_peft_model, prepare_model_for_kbit_training\n",
    "\n",
    "# target modules are currently selected for zephyr base model\n",
    "config = LoraConfig(\n",
    "    r=16,\n",
    "    lora_alpha=32,\n",
    "    target_modules=[\"q_proj\", \"v_proj\",\"k_proj\",\"o_proj\",\"gate_proj\",\"up_proj\",\"down_proj\"],   # target all the linear layers for full finetuning\n",
    "    lora_dropout=0.05,\n",
    "    bias=\"none\",\n",
    "    task_type=\"CAUSAL_LM\"\n",
    "    )"
   ]
  },
  {
   "cell_type": "code",
   "execution_count": null,
   "metadata": {},
   "outputs": [],
   "source": [
    "# stabilize output layer and layernorms\n",
    "model = prepare_model_for_kbit_training(model, 8)\n",
    "# Set PEFT adapter on model (Last step)\n",
    "model = get_peft_model(model, config)"
   ]
  },
  {
   "cell_type": "code",
   "execution_count": null,
   "metadata": {},
   "outputs": [],
   "source": [
    "# Set Hyperparameters\n",
    "MAXLEN=512\n",
    "BATCH_SIZE=4\n",
    "GRAD_ACC=4\n",
    "OPTIMIZER='paged_adamw_8bit' # save memory\n",
    "LR=5e-06                      # slightly smaller than pretraining lr | and close to LoRA standard"
   ]
  },
  {
   "cell_type": "code",
   "execution_count": null,
   "metadata": {},
   "outputs": [],
   "source": [
    "# Set training config\n",
    "training_config = transformers.TrainingArguments(per_device_train_batch_size=BATCH_SIZE,\n",
    "                                                 gradient_accumulation_steps=GRAD_ACC,\n",
    "                                                 optim=OPTIMIZER,\n",
    "                                                 learning_rate=LR,\n",
    "                                                 fp16=True,            # consider compatibility when using bf16\n",
    "                                                 logging_steps=10,\n",
    "                                                 num_train_epochs = 2,\n",
    "                                                 output_dir=lora_output,\n",
    "                                                 remove_unused_columns=True,\n",
    "                                                \n",
    "                                                 )\n",
    "\n",
    "# Set collator\n",
    "data_collator = transformers.DataCollatorForLanguageModeling(tokenizer,mlm=False)\n",
    "\n",
    "# Setup trainer\n",
    "trainer = SFTTrainer(model=model,\n",
    "                               train_dataset=dataset,\n",
    "                               data_collator=data_collator,\n",
    "                               args=training_config,\n",
    "                               dataset_text_field=\"Text\",\n",
    "                            #    callbacks=[early_stop], need to learn, lora easily overfits\n",
    "                              )"
   ]
  },
  {
   "cell_type": "code",
   "execution_count": null,
   "metadata": {},
   "outputs": [],
   "source": [
    "trainer.train()"
   ]
  },
  {
   "cell_type": "code",
   "execution_count": null,
   "metadata": {},
   "outputs": [],
   "source": [
    "trainer.save_model(lora_output)"
   ]
  },
  {
   "cell_type": "code",
   "execution_count": null,
   "metadata": {},
   "outputs": [],
   "source": []
  },
  {
   "cell_type": "code",
   "execution_count": null,
   "metadata": {},
   "outputs": [],
   "source": []
  },
  {
   "cell_type": "code",
   "execution_count": null,
   "metadata": {},
   "outputs": [],
   "source": []
  },
  {
   "cell_type": "code",
   "execution_count": null,
   "metadata": {},
   "outputs": [],
   "source": [
    "from transformers import pipeline\n",
    "import transformers\n",
    "base_model = \"NousResearch/Llama-2-7b-chat-hf\"\n",
    "full_output = 'models/full_KUET_LLM_llama'\n",
    "tokenizer = transformers.AutoTokenizer.from_pretrained(base_model)\n",
    "pipe = pipeline(task=\"text-generation\", model=full_output, tokenizer=tokenizer, max_length=200)\n",
    "from langchain import HuggingFacePipeline\n",
    "llm = HuggingFacePipeline(pipeline = pipe, model_kwargs = {'temperature':0})"
   ]
  },
  {
   "cell_type": "code",
   "execution_count": null,
   "metadata": {},
   "outputs": [],
   "source": [
    "prompt=\"what is KUET?\"\n",
    "result = pipe(f\"<s>[INST] {prompt} [/INST]\")\n",
    "ans=(result[0]['generated_text'])\n",
    "ans.split(\"[/INST]\")[1]"
   ]
  },
  {
   "cell_type": "code",
   "execution_count": null,
   "metadata": {},
   "outputs": [],
   "source": [
    "import tqdm\n",
    "import pandas as pd\n",
    "df=pd.read_excel(r\"data/KUET information2k20.xlsx\")\n",
    "dat=[]\n",
    "for id,ques in tqdm.tqdm(zip(df['id'],df['Question'])):\n",
    "    result = pipe(f\"<s>[INST] {ques} [/INST]\")\n",
    "    ans=(result[0]['generated_text'])\n",
    "    ans.split(\"[/INST]\")[1]\n",
    "    dat.append({\n",
    "        \"id\":id,\n",
    "        \"question\":ques,\n",
    "        \"answer\":ans\n",
    "    })"
   ]
  },
  {
   "cell_type": "code",
   "execution_count": null,
   "metadata": {},
   "outputs": [],
   "source": [
    "sa=pd.DataFrame(dat)\n",
    "model_ans=\"model_ans_llama_finetuned_without_rag\"\n",
    "sa.to_excel(f\"data//{model_ans}.xlsx\",index=False)"
   ]
  },
  {
   "cell_type": "code",
   "execution_count": null,
   "metadata": {},
   "outputs": [],
   "source": [
    "# merged_model = model.merge_and_unload()"
   ]
  },
  {
   "cell_type": "code",
   "execution_count": null,
   "metadata": {},
   "outputs": [],
   "source": [
    "# merged_model.save_pretrained(full_output)\n",
    "# tokenizer.save_pretrained(full_output)"
   ]
  },
  {
   "cell_type": "code",
   "execution_count": null,
   "metadata": {},
   "outputs": [],
   "source": [
    "# from transformers import pipeline\n",
    "# from transformers import AutoTokenizer, AutoModelForCausalLM\n",
    "# import torch\n",
    "# full_output = 'models/full_KUET_LLM_llama'\n",
    "# prompt = \"What is KUET?\"\n",
    "# tokenizer = AutoTokenizer.from_pretrained(full_output)\n",
    "# model = AutoModelForCausalLM.from_pretrained(\n",
    "#     full_output,\n",
    "#     # quantization_config=bnb_config,\n",
    "#     device_map=\"auto\",\n",
    "#     trust_remote_code=True,\n",
    "#     attn_implementation=\"flash_attention_2\",\n",
    "#     torch_dtype=torch.bfloat16,\n",
    "\n",
    "# )"
   ]
  },
  {
   "cell_type": "code",
   "execution_count": null,
   "metadata": {},
   "outputs": [],
   "source": []
  },
  {
   "cell_type": "code",
   "execution_count": null,
   "metadata": {},
   "outputs": [],
   "source": [
    "assert(False)"
   ]
  },
  {
   "cell_type": "code",
   "execution_count": null,
   "metadata": {},
   "outputs": [],
   "source": [
    "# # push model to hub\n",
    "# merged_model.push_to_hub(full_output)\n",
    "# tokenizer.push_to_hub(full_output)"
   ]
  }
 ],
 "metadata": {
  "kernelspec": {
   "display_name": "LLMTesting",
   "language": "python",
   "name": "python3"
  },
  "language_info": {
   "codemirror_mode": {
    "name": "ipython",
    "version": 3
   },
   "file_extension": ".py",
   "mimetype": "text/x-python",
   "name": "python",
   "nbconvert_exporter": "python",
   "pygments_lexer": "ipython3",
   "version": "3.9.18"
  }
 },
 "nbformat": 4,
 "nbformat_minor": 2
}
