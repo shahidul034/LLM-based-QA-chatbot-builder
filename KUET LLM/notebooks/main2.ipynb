{
 "cells": [
  {
   "cell_type": "code",
   "execution_count": null,
   "metadata": {},
   "outputs": [],
   "source": [
    "import pandas as pd\n",
    "df=pd.read_excel(\"validation-kuetllm.xlsx\")\n",
    "df.head()"
   ]
  },
  {
   "cell_type": "code",
   "execution_count": null,
   "metadata": {},
   "outputs": [],
   "source": [
    "def random_ques_ans():\n",
    "    import random\n",
    "    id=random.randint(0,59)\n",
    "    ques_temp=(df.loc[id])['question']\n",
    "    ans_temp=(df.loc[id])['answer']\n",
    "    return ques_temp,ans_temp"
   ]
  },
  {
   "cell_type": "code",
   "execution_count": null,
   "metadata": {},
   "outputs": [],
   "source": [
    "def new_ques():\n",
    "    ques_temp,ans_temp=random_ques_ans()\n",
    "    return {\n",
    "        ques:gr.Label(value=ques_temp,label=\"Question\"),\n",
    "        ans:gr.Label(value=ans_temp,label=\"Answer\")\n",
    "    }"
   ]
  },
  {
   "cell_type": "code",
   "execution_count": null,
   "metadata": {},
   "outputs": [],
   "source": [
    "def save_the_ques(ques,ans):\n",
    "    pass"
   ]
  },
  {
   "cell_type": "code",
   "execution_count": null,
   "metadata": {},
   "outputs": [],
   "source": [
    "import gradio as gr\n",
    "import pandas as pd\n",
    "css = \"\"\"\n",
    "#accepted {background-color: green;align-content: center;font: 30px Arial, sans-serif;}\n",
    "#wrong {background-color: red;align-content: center;font: 30px Arial, sans-serif;}\n",
    "#already {background-color: blue;align-content: center;font: 30px Arial, sans-serif;}\n",
    "\"\"\"\n",
    "ques_temp,ans_temp=random_ques_ans()\n",
    "with gr.Blocks(css=css) as demo:\n",
    "    with gr.Row():\n",
    "        ques=gr.Label(value=ques_temp,label=\"Question\")\n",
    "    with gr.Row():\n",
    "        ans=gr.TextArea(label=\"Answer\")\n",
    "    with gr.Row():\n",
    "        save=gr.Button(\"Save the answer\")\n",
    "        question = gr.Button(\"Generate new question\")\n",
    "    with gr.Row():\n",
    "        lab=gr.Label(value=\"You ans is submitted!!! Thank you for your contribution.\",label=\"submitted\")\n",
    "    question.click(save_the_ques,[ques,ans],lab)\n",
    "\n",
    "demo.launch(share=False)"
   ]
  },
  {
   "cell_type": "code",
   "execution_count": 2,
   "metadata": {},
   "outputs": [
    {
     "data": {
      "text/html": [
       "<div>\n",
       "<style scoped>\n",
       "    .dataframe tbody tr th:only-of-type {\n",
       "        vertical-align: middle;\n",
       "    }\n",
       "\n",
       "    .dataframe tbody tr th {\n",
       "        vertical-align: top;\n",
       "    }\n",
       "\n",
       "    .dataframe thead th {\n",
       "        text-align: right;\n",
       "    }\n",
       "</style>\n",
       "<table border=\"1\" class=\"dataframe\">\n",
       "  <thead>\n",
       "    <tr style=\"text-align: right;\">\n",
       "      <th></th>\n",
       "      <th>Prompt</th>\n",
       "      <th>Reply</th>\n",
       "    </tr>\n",
       "  </thead>\n",
       "  <tbody>\n",
       "    <tr>\n",
       "      <th>0</th>\n",
       "      <td>What is the history and evolution of KUET?</td>\n",
       "      <td>Khulna University of Engineering &amp; Technology ...</td>\n",
       "    </tr>\n",
       "    <tr>\n",
       "      <th>1</th>\n",
       "      <td>Where is the KUET campus located, and what sur...</td>\n",
       "      <td>The KUET campus is situated at Fulbarigate, ap...</td>\n",
       "    </tr>\n",
       "    <tr>\n",
       "      <th>2</th>\n",
       "      <td>How does KUET define its mission and vision?</td>\n",
       "      <td>KUET's mission is to advance the application o...</td>\n",
       "    </tr>\n",
       "    <tr>\n",
       "      <th>3</th>\n",
       "      <td>What are the faculties and teaching department...</td>\n",
       "      <td>KUET currently comprises three faculties with ...</td>\n",
       "    </tr>\n",
       "    <tr>\n",
       "      <th>4</th>\n",
       "      <td>Can you describe the physical layout of the KU...</td>\n",
       "      <td>The KUET campus spans 101 acres and is meticul...</td>\n",
       "    </tr>\n",
       "  </tbody>\n",
       "</table>\n",
       "</div>"
      ],
      "text/plain": [
       "                                              Prompt  \\\n",
       "0         What is the history and evolution of KUET?   \n",
       "1  Where is the KUET campus located, and what sur...   \n",
       "2       How does KUET define its mission and vision?   \n",
       "3  What are the faculties and teaching department...   \n",
       "4  Can you describe the physical layout of the KU...   \n",
       "\n",
       "                                               Reply  \n",
       "0  Khulna University of Engineering & Technology ...  \n",
       "1  The KUET campus is situated at Fulbarigate, ap...  \n",
       "2  KUET's mission is to advance the application o...  \n",
       "3  KUET currently comprises three faculties with ...  \n",
       "4  The KUET campus spans 101 acres and is meticul...  "
      ]
     },
     "execution_count": 2,
     "metadata": {},
     "output_type": "execute_result"
    }
   ],
   "source": [
    "import pandas as pd\n",
    "df=pd.read_excel(\"KUET LLM data\\dataset_shakibV2.xlsx\")\n",
    "df.head()"
   ]
  },
  {
   "cell_type": "code",
   "execution_count": 8,
   "metadata": {},
   "outputs": [
    {
     "name": "stdout",
     "output_type": "stream",
     "text": [
      "133  -->  The Computer Hardware & Interfacing Laboratory is well-equipped with modern tools for hardware-related design, testing, and interfacing peripherals with microprocessors/microcomputers. The main equipment includes Microprocessor Trainer Kits, Basic Computer Interface Control, Scope Multimeter, Stepper Motor, AD/DA Experimental Board, Multi I/O Lab Card, Power Supply Unit Experimental System, Oscilloscope, Analog Multimeter, Digital Multimeter, Electronic Sensors Trainer, Portable EPROM Eraser, Function Generator, Digital Function Generator, Portable EPROM Programmer, DCA/ACA Clamp Meter, AC/DC Labtype Voltmeter, Digital Earth Tester, Fiber Optic Power Meter, Scope Card, and Data Acquisition Card. Additionally, the laboratory has a server and twenty workstations connected by a Local Area Network.\n",
      "134  -->  The Digital Systems & VLSI Laboratory at KUET CSE is designed for the development and implementation of digital circuits and aims to provide students with sufficient knowledge about digital systems. The laboratory is equipped with modern tools, including Scope Multimeter, Digital Experimental Trainer Kit, Portable Digital IC Tester, Portable Linear IC Tester, Digital Signal Processing Controller, Power Supply Unit Experimental System, Oscilloscope, Logic Probe, Analog Multimeter, Digital Logic Circuit Trainer, Portable EPROM Eraser, Logic Pulsar, Function Generator, Digital Function Generator, Digital LCR Meter, Portable EPROM Programmer, Digital Storage Oscilloscope, Digital Multimeter, Frequency Counter, Digital Earth Tester, and EPROM Programmable. It also contains a variety of ICs, diodes, capacitors, resistors, and other components for implementing different digital circuits.\n",
      "157  -->  Khulna University of Engineering and Technology (KUET) offers the following degrees: Bachelor of Science in Civil Engineering (B. Sc. Eng. (CE)), Bachelor of Science in Electrical & Electronic Engineering (B. Sc. Eng. (EEE)), Bachelor of Science in Mechanical Engineering (B. Sc. Eng. (ME)), Bachelor of Science in Computer Science & Engineering (B. Sc. Eng. (CSE)), Bachelor of Science in Electronics & Communication Engineering (B. Sc. Eng. (ECE)), Bachelor of Science in Industrial & Production Engineering (B. Sc. Eng. (IPE)), Bachelor of Urban & Regional Planning (BURP), Bachelor of Science in Leather Engineering (B. Sc. Eng. (LE)), Bachelor of Science in Textile Engineering (B. Sc. Eng. (TE)), Bachelor of Science in Building Engineering and Construction Management (B. Sc. Eng. (BECM)), Bachelor of Science in Biomedical Engineering (B. Sc. Eng. (BME)), Bachelor of Science in Energy Science and Engineering (B. Sc. Eng. (ESE)), Bachelor of Architecture (BArch), Bachelor of Science in Materials Science and Engineering (B. Sc. Eng. (MSE)), Bachelor of Science in Chemical Engineering (B. Sc. Eng. (Chemical)), and Bachelor of Science in Mechatronics Engineering (B. Sc. Eng. (Mechat)). Additionally, any other degree that may be awarded by a department on the recommendation of the Academic Council and approval of the Syndicate from time to time.\n",
      "350  -->  Khulna University of Engineering & Technology has a historical background that began 49 years ago when it was established in 1967 as 'Khulna Engineering College' under the University of Rajshahi. However, during the liberation war, development activities were suspended until they resumed after the independence of Bangladesh in 1971. The academic activities officially started on June 3, 1974, under the special direction of Bangabandhu Sheikh Mujibur Rahman. Despite facing challenges, the college continued its journey and eventually transformed into an autonomous institute named Bangladesh Institute of Technology (BIT) on July 1, 1986, along with three other engineering colleges in the country.\n"
     ]
    }
   ],
   "source": [
    "for idx,x in enumerate(df['Reply']):\n",
    "    if len(x.split(\" \"))>=100:\n",
    "        print(idx,\" --> \",x)"
   ]
  },
  {
   "cell_type": "code",
   "execution_count": 3,
   "metadata": {},
   "outputs": [],
   "source": [
    "dat=[]\n",
    "for x,y in zip(df['Prompt'],df['Reply']):\n",
    "    dat.append(\n",
    "        {\n",
    "            \"Prompt\":x,\n",
    "            'Reply': y\n",
    "        }\n",
    "    )"
   ]
  },
  {
   "cell_type": "code",
   "execution_count": null,
   "metadata": {},
   "outputs": [],
   "source": [
    "(pd.DataFrame(dat)).to_excel(r\"KUET LLM data\\dataset_shakibV3.xlsx\")"
   ]
  }
 ],
 "metadata": {
  "kernelspec": {
   "display_name": "ai_clssifier",
   "language": "python",
   "name": "python3"
  },
  "language_info": {
   "codemirror_mode": {
    "name": "ipython",
    "version": 3
   },
   "file_extension": ".py",
   "mimetype": "text/x-python",
   "name": "python",
   "nbconvert_exporter": "python",
   "pygments_lexer": "ipython3",
   "version": "3.10.13"
  }
 },
 "nbformat": 4,
 "nbformat_minor": 2
}
