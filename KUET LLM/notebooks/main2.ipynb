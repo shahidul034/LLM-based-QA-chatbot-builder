{
 "cells": [
  {
   "cell_type": "code",
   "execution_count": null,
   "metadata": {},
   "outputs": [],
   "source": [
    "import pandas as pd\n",
    "df=pd.read_excel(r\"E:\\recent project work\\Misc-project\\KUET LLM\\excel file\\validation-kuetllm_tanim.xlsx\")\n",
    "df.head()"
   ]
  },
  {
   "cell_type": "code",
   "execution_count": null,
   "metadata": {},
   "outputs": [],
   "source": [
    "def random_ques_ans():\n",
    "    import random\n",
    "    id=random.randint(0,59)\n",
    "    ques_temp=(df.loc[id])['question']\n",
    "    ans_temp=(df.loc[id])['answer']\n",
    "    return ques_temp,ans_temp"
   ]
  },
  {
   "cell_type": "code",
   "execution_count": null,
   "metadata": {},
   "outputs": [],
   "source": [
    "def new_ques():\n",
    "    ques_temp,ans_temp=random_ques_ans()\n",
    "    return [gr.Label(value=ques_temp,label=\"Question\"),gr.Label(value=ans_temp,label=\"Answer\")]"
   ]
  },
  {
   "cell_type": "code",
   "execution_count": null,
   "metadata": {},
   "outputs": [],
   "source": [
    "def save_the_ques(ques,ans):\n",
    "    pass"
   ]
  },
  {
   "cell_type": "code",
   "execution_count": null,
   "metadata": {},
   "outputs": [],
   "source": [
    "import gradio as gr\n",
    "import pandas as pd\n",
    "css = \"\"\"\n",
    "#accepted {background-color: green;align-content: center;font: 30px Arial, sans-serif;}\n",
    "#wrong {background-color: red;align-content: center;font: 30px Arial, sans-serif;}\n",
    "#already {background-color: blue;align-content: center;font: 30px Arial, sans-serif;}\n",
    "\"\"\"\n",
    "ques_temp,ans_temp=random_ques_ans()\n",
    "with gr.Blocks(css=css) as demo:\n",
    "    with gr.Row():\n",
    "        ques=gr.Label(value=ques_temp,label=\"Question\")\n",
    "    with gr.Row():\n",
    "        ans=gr.TextArea(label=\"Answer\")\n",
    "    with gr.Row():\n",
    "        save=gr.Button(\"Save the answer\")\n",
    "        question = gr.Button(\"Generate new question\")\n",
    "    with gr.Row():\n",
    "        lab=gr.Label(value=\"You ans is submitted!!! Thank you for your contribution.\",label=\"submitted\")\n",
    "    question.click(save_the_ques,[ques,ans],lab)\n",
    "\n",
    "demo.launch(share=False)"
   ]
  },
  {
   "cell_type": "code",
   "execution_count": null,
   "metadata": {},
   "outputs": [],
   "source": [
    "import pandas as pd\n",
    "df=pd.read_excel(\"KUET LLM data\\dataset_shakibV2.xlsx\")\n",
    "df.head()"
   ]
  },
  {
   "cell_type": "code",
   "execution_count": null,
   "metadata": {},
   "outputs": [],
   "source": [
    "for idx,x in enumerate(df['Reply']):\n",
    "    if len(x.split(\" \"))>=100:\n",
    "        print(idx,\" --> \",x)"
   ]
  },
  {
   "cell_type": "code",
   "execution_count": null,
   "metadata": {},
   "outputs": [],
   "source": [
    "dat=[]\n",
    "for x,y in zip(df['Prompt'],df['Reply']):\n",
    "    dat.append(\n",
    "        {\n",
    "            \"Prompt\":x,\n",
    "            'Reply': y\n",
    "        }\n",
    "    )"
   ]
  },
  {
   "cell_type": "code",
   "execution_count": null,
   "metadata": {},
   "outputs": [],
   "source": [
    "(pd.DataFrame(dat)).to_excel(r\"KUET LLM data\\dataset_shakibV3.xlsx\")"
   ]
  },
  {
   "cell_type": "code",
   "execution_count": null,
   "metadata": {},
   "outputs": [],
   "source": [
    "import gradio as gr\n",
    "\n",
    "def echo(message, history):\n",
    "    return message[\"text\"]\n",
    "\n",
    "demo = gr.ChatInterface(fn=echo, examples=[\"What is KUET?\",\"Tell me about CSE department in KUET\"], title=\"KUET LLM\")\n",
    "demo.launch()"
   ]
  },
  {
   "cell_type": "code",
   "execution_count": 37,
   "metadata": {},
   "outputs": [
    {
     "data": {
      "text/plain": [
       "'E:\\\\recent project work\\\\Misc-project\\\\KUET LLM\\\\UI'"
      ]
     },
     "execution_count": 37,
     "metadata": {},
     "output_type": "execute_result"
    }
   ],
   "source": [
    "import os\n",
    "os.getcwd()\n",
    "# os.chdir(r\"E:\\recent project work\\Misc-project\\KUET LLM\\UI\")"
   ]
  },
  {
   "cell_type": "code",
   "execution_count": 32,
   "metadata": {},
   "outputs": [
    {
     "name": "stdout",
     "output_type": "stream",
     "text": [
      "hello world!!\n"
     ]
    }
   ],
   "source": [
    "exec(open('file.py').read())"
   ]
  },
  {
   "cell_type": "code",
   "execution_count": 38,
   "metadata": {},
   "outputs": [
    {
     "data": {
      "text/plain": [
       "0"
      ]
     },
     "execution_count": 38,
     "metadata": {},
     "output_type": "execute_result"
    }
   ],
   "source": [
    "os.system(r\"fine_tune_file\\llama_finetune.py\")"
   ]
  },
  {
   "cell_type": "code",
   "execution_count": null,
   "metadata": {},
   "outputs": [],
   "source": []
  }
 ],
 "metadata": {
  "kernelspec": {
   "display_name": "ai_clssifier",
   "language": "python",
   "name": "python3"
  },
  "language_info": {
   "codemirror_mode": {
    "name": "ipython",
    "version": 3
   },
   "file_extension": ".py",
   "mimetype": "text/x-python",
   "name": "python",
   "nbconvert_exporter": "python",
   "pygments_lexer": "ipython3",
   "version": "3.10.13"
  }
 },
 "nbformat": 4,
 "nbformat_minor": 2
}
