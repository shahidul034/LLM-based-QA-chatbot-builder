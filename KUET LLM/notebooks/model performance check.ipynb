{
 "cells": [
  {
   "cell_type": "code",
   "execution_count": 5,
   "metadata": {},
   "outputs": [],
   "source": [
    "import pandas as pd\n",
<<<<<<< Updated upstream
    "file_path=[r\"C:\\Users\\Andromeda\\Desktop\\Misc-project\\KUET LLM\\score_report\\2024_03_25_23_34_28model_ans_mistral_finetuned486_rag_ensemble.xlsx\"\n",
    "           ]\n"
=======
    "file_path=[r\"C:\\Users\\Andromeda\\Desktop\\Misc-project\\KUET LLM\\score_report\\2024_03_26_21_28_29model_ans_zepyhr_finetuned486_rag_ensemble.xlsx\"\n",
    "           ]\n"
   ]
  },
  {
   "cell_type": "code",
   "execution_count": 6,
   "metadata": {},
   "outputs": [
    {
     "name": "stdout",
     "output_type": "stream",
     "text": [
      "150\n",
      "4.706666666666667\n"
     ]
    }
   ],
   "source": [
    "avg=0\n",
    "for x in file_path:\n",
    "    df=pd.read_excel(x)\n",
    "    print(len(df))\n",
    "    temp=sum(df['rating'])/len(df)\n",
    "    avg+=temp\n",
    "print(avg/len(file_path))"
   ]
  },
  {
   "cell_type": "code",
   "execution_count": 7,
   "metadata": {},
   "outputs": [
    {
     "ename": "AssertionError",
     "evalue": "",
     "output_type": "error",
     "traceback": [
      "\u001b[1;31m---------------------------------------------------------------------------\u001b[0m",
      "\u001b[1;31mAssertionError\u001b[0m                            Traceback (most recent call last)",
      "Cell \u001b[1;32mIn[7], line 1\u001b[0m\n\u001b[1;32m----> 1\u001b[0m \u001b[38;5;28;01massert\u001b[39;00m(\u001b[38;5;28;01mFalse\u001b[39;00m)\n",
      "\u001b[1;31mAssertionError\u001b[0m: "
     ]
    }
   ],
   "source": [
    "assert(False)"
>>>>>>> Stashed changes
   ]
  },
  {
   "cell_type": "code",
   "execution_count": null,
   "metadata": {},
   "outputs": [],
   "source": [
<<<<<<< Updated upstream
    "avg=0\n",
    "for x in file_path:\n",
    "    df=pd.read_excel(x)\n",
    "    print(len(df))\n",
    "    temp=sum(df['rating'])/len(df)\n",
    "    avg+=temp\n",
    "print(avg/len(file_path))"
=======
    "import pandas as pd\n",
    "tt=r\"C:\\Users\\Andromeda\\Desktop\\Misc-project\\KUET LLM\\KUET LLM data\\dataset_shakibV3.xlsx\"\n",
    "df=pd.read_excel(tt)\n",
    "df['id']=[x+1 for x in df.index]\n",
    "df.rename(columns = {'Prompt':'Question', 'Reply':'Answer'}, inplace = True) \n",
    "# dat=[]\n",
    "# for x,y,z in zip(df.index,df['Question'],df['Answer']):\n",
    "    # print(x+1,y,z)\n",
    "    # if len(y)>=100:\n",
    "    #     print((y))\n",
    "    # dat.append({\n",
    "    #     \"id\": x+1,\n",
    "    #     \"question\":y,\n",
    "    #     \"answer\":z \n",
    "    # })\n"
   ]
  },
  {
   "cell_type": "code",
   "execution_count": null,
   "metadata": {},
   "outputs": [],
   "source": [
    "for y,x in zip(df[\"id\"],df['Prompt']):\n",
    "    if len(x)>=140:\n",
    "        print(len(x),x)"
   ]
  },
  {
   "cell_type": "code",
   "execution_count": null,
   "metadata": {},
   "outputs": [],
   "source": [
    "from datasets import load_dataset, Dataset\n",
    "dataset = Dataset.from_pandas(df)\n",
    "dataset"
   ]
  },
  {
   "cell_type": "code",
   "execution_count": null,
   "metadata": {},
   "outputs": [],
   "source": []
  },
  {
   "cell_type": "code",
   "execution_count": null,
   "metadata": {},
   "outputs": [],
   "source": []
  },
  {
   "cell_type": "code",
   "execution_count": null,
   "metadata": {},
   "outputs": [],
   "source": [
    "dataset.push_to_hub(\"KUET-LLM-dataset\")"
   ]
  },
  {
   "cell_type": "markdown",
   "metadata": {},
   "source": [
    "Webpage loader"
>>>>>>> Stashed changes
   ]
  },
  {
   "cell_type": "code",
   "execution_count": null,
   "metadata": {},
   "outputs": [],
   "source": [
    "import pandas as pd\n",
    "tt=r\"C:\\Users\\Andromeda\\Desktop\\Misc-project\\KUET LLM\\KUET LLM data\\dataset_shakibV3.xlsx\"\n",
    "df=pd.read_excel(tt)\n",
    "df['id']=[x+1 for x in df.index]\n",
    "df.rename(columns = {'Prompt':'Question', 'Reply':'Answer'}, inplace = True) \n",
    "# dat=[]\n",
    "# for x,y,z in zip(df.index,df['Question'],df['Answer']):\n",
    "    # print(x+1,y,z)\n",
    "    # if len(y)>=100:\n",
    "    #     print((y))\n",
    "    # dat.append({\n",
    "    #     \"id\": x+1,\n",
    "    #     \"question\":y,\n",
    "    #     \"answer\":z \n",
    "    # })\n"
   ]
  },
  {
   "cell_type": "code",
   "execution_count": null,
   "metadata": {},
   "outputs": [],
   "source": [
    "for y,x in zip(df[\"id\"],df['Prompt']):\n",
    "    if len(x)>=140:\n",
    "        print(len(x),x)"
   ]
  },
  {
   "cell_type": "code",
   "execution_count": null,
   "metadata": {},
   "outputs": [],
   "source": [
    "from datasets import load_dataset, Dataset\n",
    "dataset = Dataset.from_pandas(df)\n",
    "dataset"
   ]
  },
  {
   "cell_type": "code",
   "execution_count": null,
   "metadata": {},
   "outputs": [],
   "source": []
  },
  {
   "cell_type": "code",
   "execution_count": null,
   "metadata": {},
   "outputs": [],
   "source": []
  },
  {
   "cell_type": "code",
   "execution_count": null,
   "metadata": {},
   "outputs": [],
   "source": [
    "dataset.push_to_hub(\"KUET-LLM-dataset\")"
   ]
  },
  {
   "cell_type": "markdown",
   "metadata": {},
   "source": [
    "Webpage loader"
   ]
  },
  {
   "cell_type": "code",
   "execution_count": null,
   "metadata": {},
   "outputs": [],
   "source": [
    "from langchain_community.document_loaders import WebBaseLoader"
   ]
  },
  {
   "cell_type": "code",
   "execution_count": null,
   "metadata": {},
   "outputs": [],
   "source": [
    "start=1\n",
    "full_data=[]\n",
    "while True:\n",
    "    loader = WebBaseLoader(f\"https://raw.githubusercontent.com/shahidul034/KUET-LLM-RAG-data/main/rag{start}.txt\")\n",
    "    data = loader.load()\n",
    "    full_data.extend(data)\n",
    "    start+=1\n",
    "    if (data[0].page_content)==\"404: Not Found\":\n",
    "        break\n",
    "# all_docs=\"\\n\\n\".join(full_data)"
   ]
  },
  {
   "cell_type": "code",
   "execution_count": null,
   "metadata": {},
   "outputs": [],
   "source": [
    "from langchain.text_splitter import CharacterTextSplitter\n",
    "text_splitter=CharacterTextSplitter(chunk_size=500,chunk_overlap=30,separator=\"\\n\")\n",
    "docs=text_splitter.split_documents(documents=full_data)"
   ]
  },
  {
   "cell_type": "code",
   "execution_count": null,
   "metadata": {},
   "outputs": [],
   "source": [
    "start=1\n",
    "full_data=[]\n",
    "while True:\n",
    "    loader = WebBaseLoader(f\"https://raw.githubusercontent.com/shahidul034/KUET-LLM-RAG-data/main/rag{start}.txt\")\n",
    "    data = loader.load()\n",
    "    full_data.extend(data[0].page_content)\n",
    "    start+=1\n",
    "    if (data[0].page_content)==\"404: Not Found\":\n",
    "        break"
   ]
  },
  {
   "cell_type": "code",
   "execution_count": null,
   "metadata": {},
   "outputs": [],
   "source": [
    "docs=\"\\n\\n\".join(full_data)"
   ]
  },
  {
   "cell_type": "code",
   "execution_count": null,
   "metadata": {},
   "outputs": [],
   "source": [
    "def dat_ret_str():\n",
    "    start=1\n",
    "    full_data=[]\n",
    "    while True:\n",
    "        loader = WebBaseLoader(f\"https://raw.githubusercontent.com/shahidul034/KUET-LLM-RAG-data/main/rag{start}.txt\")\n",
    "        data = loader.load()\n",
    "        full_data.extend(data[0].page_content)\n",
    "        start+=1\n",
    "        if (data[0].page_content)==\"404: Not Found\":\n",
    "            break\n",
    "    docs=\"\\n\\n\".join(full_data)\n",
    "    return docs"
   ]
  }
 ],
 "metadata": {
  "kernelspec": {
   "display_name": "ai_clssifier",
   "language": "python",
   "name": "python3"
  },
  "language_info": {
   "codemirror_mode": {
    "name": "ipython",
    "version": 3
   },
   "file_extension": ".py",
   "mimetype": "text/x-python",
   "name": "python",
   "nbconvert_exporter": "python",
   "pygments_lexer": "ipython3",
   "version": "3.10.13"
  }
 },
 "nbformat": 4,
 "nbformat_minor": 2
}
