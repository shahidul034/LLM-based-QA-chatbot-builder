{
 "cells": [
  {
   "cell_type": "code",
   "execution_count": 1,
   "metadata": {},
   "outputs": [
    {
     "data": {
      "text/html": [
       "<div>\n",
       "<style scoped>\n",
       "    .dataframe tbody tr th:only-of-type {\n",
       "        vertical-align: middle;\n",
       "    }\n",
       "\n",
       "    .dataframe tbody tr th {\n",
       "        vertical-align: top;\n",
       "    }\n",
       "\n",
       "    .dataframe thead th {\n",
       "        text-align: right;\n",
       "    }\n",
       "</style>\n",
       "<table border=\"1\" class=\"dataframe\">\n",
       "  <thead>\n",
       "    <tr style=\"text-align: right;\">\n",
       "      <th></th>\n",
       "      <th>question</th>\n",
       "      <th>answer</th>\n",
       "      <th>id</th>\n",
       "    </tr>\n",
       "  </thead>\n",
       "  <tbody>\n",
       "    <tr>\n",
       "      <th>0</th>\n",
       "      <td>What are the requirements for postgraduate pro...</td>\n",
       "      <td>Applicants for master's programs need a B.Sc. ...</td>\n",
       "      <td>0</td>\n",
       "    </tr>\n",
       "    <tr>\n",
       "      <th>1</th>\n",
       "      <td>How are earned credits and CGPA improvement ha...</td>\n",
       "      <td>Courses with a 'D' grade or higher are counted...</td>\n",
       "      <td>1</td>\n",
       "    </tr>\n",
       "    <tr>\n",
       "      <th>2</th>\n",
       "      <td>What are the provisions for completing backlog...</td>\n",
       "      <td>Backlog exams are held once a year. Students c...</td>\n",
       "      <td>2</td>\n",
       "    </tr>\n",
       "    <tr>\n",
       "      <th>3</th>\n",
       "      <td>Can you provide a brief historical background ...</td>\n",
       "      <td>KUET, Bangladesh was established in 1967 as Kh...</td>\n",
       "      <td>3</td>\n",
       "    </tr>\n",
       "    <tr>\n",
       "      <th>4</th>\n",
       "      <td>What are the neighboring landmarks to KUET?</td>\n",
       "      <td>Nearby landmarks include Govt B. L. College to...</td>\n",
       "      <td>4</td>\n",
       "    </tr>\n",
       "  </tbody>\n",
       "</table>\n",
       "</div>"
      ],
      "text/plain": [
       "                                            question  \\\n",
       "0  What are the requirements for postgraduate pro...   \n",
       "1  How are earned credits and CGPA improvement ha...   \n",
       "2  What are the provisions for completing backlog...   \n",
       "3  Can you provide a brief historical background ...   \n",
       "4        What are the neighboring landmarks to KUET?   \n",
       "\n",
       "                                              answer  id  \n",
       "0  Applicants for master's programs need a B.Sc. ...   0  \n",
       "1  Courses with a 'D' grade or higher are counted...   1  \n",
       "2  Backlog exams are held once a year. Students c...   2  \n",
       "3  KUET, Bangladesh was established in 1967 as Kh...   3  \n",
       "4  Nearby landmarks include Govt B. L. College to...   4  "
      ]
     },
     "execution_count": 1,
     "metadata": {},
     "output_type": "execute_result"
    }
   ],
   "source": [
    "import pandas as pd\n",
    "df=pd.read_excel(\"validation-kuetllm.xlsx\")\n",
    "df.head()"
   ]
  },
  {
   "cell_type": "code",
   "execution_count": 2,
   "metadata": {},
   "outputs": [],
   "source": [
    "def random_ques_ans():\n",
    "    import random\n",
    "    id=random.randint(0,59)\n",
    "    ques_temp=(df.loc[id])['question']\n",
    "    ans_temp=(df.loc[id])['answer']\n",
    "    return ques_temp,ans_temp"
   ]
  },
  {
   "cell_type": "code",
   "execution_count": 3,
   "metadata": {},
   "outputs": [],
   "source": [
    "def new_ques():\n",
    "    ques_temp,ans_temp=random_ques_ans()\n",
    "    return {\n",
    "        ques:gr.Label(value=ques_temp,label=\"Question\"),\n",
    "        ans:gr.Label(value=ans_temp,label=\"Answer\")\n",
    "    }"
   ]
  },
  {
   "cell_type": "code",
   "execution_count": 4,
   "metadata": {},
   "outputs": [],
   "source": [
    "def save_the_ques(ques,ans):\n",
    "    return {\n",
    "        lab:gr.Label(value=\"You ans is submitted!!! Thank you for your contribution.\",label=\"submitted\",visible=True,elem_id=\"accepted\"),\n",
    "        q1:gr.Label(value=ques,visible=True,label=\"Question\"),\n",
    "        a1:gr.Label(value=ans,visible=True,label=\"Answer\")\n",
    "    }"
   ]
  },
  {
   "cell_type": "code",
   "execution_count": 15,
   "metadata": {},
   "outputs": [
    {
     "name": "stdout",
     "output_type": "stream",
     "text": [
      "Running on local URL:  http://127.0.0.1:7872\n",
      "\n",
      "To create a public link, set `share=True` in `launch()`.\n"
     ]
    },
    {
     "data": {
      "text/html": [
       "<div><iframe src=\"http://127.0.0.1:7872/\" width=\"100%\" height=\"500\" allow=\"autoplay; camera; microphone; clipboard-read; clipboard-write;\" frameborder=\"0\" allowfullscreen></iframe></div>"
      ],
      "text/plain": [
       "<IPython.core.display.HTML object>"
      ]
     },
     "metadata": {},
     "output_type": "display_data"
    },
    {
     "data": {
      "text/plain": []
     },
     "execution_count": 15,
     "metadata": {},
     "output_type": "execute_result"
    }
   ],
   "source": [
    "import gradio as gr\n",
    "import pandas as pd\n",
    "css = \"\"\"\n",
    "#accepted {background-color: green;align-content: center;font: 30px Arial, sans-serif;}\n",
    "#wrong {background-color: red;align-content: center;font: 30px Arial, sans-serif;}\n",
    "#already {background-color: blue;align-content: center;font: 30px Arial, sans-serif;}\n",
    "\"\"\"\n",
    "ques_temp,ans_temp=random_ques_ans()\n",
    "with gr.Blocks(css=css) as demo:\n",
    "    gr.Markdown(\n",
    "    \"\"\"\n",
    "    # KUET information\n",
    "    ** Disclaimer: The data collected will be used solely for academic or research purposes. Your participation in this data collection is entirely voluntary. \n",
    "    You have the right to refuse to answer any question or withdraw from the study at any time without any negative consequences. \n",
    "    Your responses will be kept confidential and anonymous to the extent permitted by law. \n",
    "    Only authorized researchers involved in the study will have access to the data, and your individual responses will not be identifiable in any publications or reports resulting from this research.\n",
    "    \"\"\")\n",
    "    with gr.Row():\n",
    "        ques=gr.TextArea(label=\"Question\")\n",
    "    with gr.Row():\n",
    "        ans=gr.TextArea(label=\"Answer\")\n",
    "    with gr.Row():\n",
    "        save=gr.Button(\"Save the answer\")\n",
    "    with gr.Row():\n",
    "        lab=gr.Label(visible=False)\n",
    "    with gr.Row():\n",
    "        q1=gr.Label(visible=False)\n",
    "    with gr.Row():\n",
    "        a1=gr.Label(visible=False)\n",
    "    save.click(save_the_ques,[ques,ans],[lab,q1,a1])\n",
    "\n",
    "demo.launch(share=False)"
   ]
  },
  {
   "cell_type": "code",
   "execution_count": 6,
   "metadata": {},
   "outputs": [],
   "source": [
    "# import os\n",
    "# dat=[]\n",
    "# path=r\"C:\\Users\\Andromeda\\Desktop\\thesis assign\\marks 2k18\\supervisor\"\n",
    "# for x in os.listdir(path):\n",
    "#     n_p=os.path.join(path,x)\n",
    "#     df=pd.read_excel(n_p)\n",
    "#     for x2 in df.values:\n",
    "#         dat.append({\n",
    "#             \"supervisor_name\":x.split(\"(\")[0],\n",
    "#             \"roll\":x2[0],\n",
    "#             'title':x2[1],\n",
    "#         })\n"
   ]
  },
  {
   "cell_type": "code",
   "execution_count": 7,
   "metadata": {},
   "outputs": [],
   "source": [
    "# df=pd.DataFrame(dat)\n",
    "# df.to_excel(\"thesis_CSE4000.xlsx\",index=False)"
   ]
  }
 ],
 "metadata": {
  "kernelspec": {
   "display_name": "ai_clssifier",
   "language": "python",
   "name": "python3"
  },
  "language_info": {
   "codemirror_mode": {
    "name": "ipython",
    "version": 3
   },
   "file_extension": ".py",
   "mimetype": "text/x-python",
   "name": "python",
   "nbconvert_exporter": "python",
   "pygments_lexer": "ipython3",
   "version": "3.10.13"
  }
 },
 "nbformat": 4,
 "nbformat_minor": 2
}
