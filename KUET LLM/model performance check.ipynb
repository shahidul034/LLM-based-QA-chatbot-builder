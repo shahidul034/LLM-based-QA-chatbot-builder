{
 "cells": [
  {
   "cell_type": "code",
   "execution_count": null,
   "metadata": {},
   "outputs": [],
   "source": [
    "import gradio as gr\n",
    "import pandas as pd\n",
    "data=[]\n",
    "def save_single(ques,context,sql):\n",
    "    data.append({\n",
    "        \"question\":ques,\n",
    "        \"context\":context,\n",
    "        'sql':sql\n",
    "    })\n",
    "def save_all():\n",
    "    df=pd.DataFrame(data)\n",
    "    df.to_excel(\"\")"
   ]
  },
  {
   "cell_type": "code",
   "execution_count": null,
   "metadata": {},
   "outputs": [],
   "source": [
    "with gr.Blocks() as demo:\n",
    "    with gr.Row():\n",
    "        ques=gr.Textbox(label=\"path\")\n",
    "        btn1 = gr.Button(\"Save\")\n",
    "    btn1.click(save_single, inputs=None, outputs=None)\n",
    "\n",
    "\n",
    "demo.launch(share=False)"
   ]
  }
 ],
 "metadata": {
  "kernelspec": {
   "display_name": "ai_clssifier",
   "language": "python",
   "name": "python3"
  },
  "language_info": {
   "codemirror_mode": {
    "name": "ipython",
    "version": 3
   },
   "file_extension": ".py",
   "mimetype": "text/x-python",
   "name": "python",
   "nbconvert_exporter": "python",
   "pygments_lexer": "ipython3",
   "version": "3.10.13"
  }
 },
 "nbformat": 4,
 "nbformat_minor": 2
}
