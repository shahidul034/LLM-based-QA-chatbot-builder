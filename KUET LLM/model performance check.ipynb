{
 "cells": [
  {
   "cell_type": "code",
   "execution_count": null,
   "metadata": {},
   "outputs": [],
   "source": [
    "import pandas as pd\n",
    "file_path=[r\"score_report\\zepyhr\\2024_03_22_23_15_30model_ans_zepyhr_finetuned486_without_rag.xlsx\"]\n"
   ]
  },
  {
   "cell_type": "code",
   "execution_count": null,
   "metadata": {},
   "outputs": [],
   "source": [
    "avg=0\n",
    "for x in file_path:\n",
    "    df=pd.read_excel(x)\n",
    "    temp=sum(df['rating'])/len(df)\n",
    "    avg+=temp\n",
    "print(avg/len(file_path))"
   ]
  },
  {
   "cell_type": "code",
   "execution_count": null,
   "metadata": {},
   "outputs": [],
   "source": [
    "from langchain_community.document_loaders import WebBaseLoader"
   ]
  },
  {
   "cell_type": "code",
   "execution_count": 55,
   "metadata": {},
   "outputs": [],
   "source": [
    "def data_ret():\n",
    "    start=1\n",
    "    full_data=[]\n",
    "    while True:\n",
    "        loader = WebBaseLoader(f\"https://raw.githubusercontent.com/shahidul034/KUET-LLM-RAG-data/main/rag{start}.txt\")\n",
    "        data = loader.load()\n",
    "        full_data.append(data[0].page_content)\n",
    "        start+=1\n",
    "        if (data[0].page_content)==\"404: Not Found\":\n",
    "            break\n",
    "    all_docs=\"\\n\\n\".join(full_data)\n",
    "    return all_docs"
   ]
  },
  {
   "cell_type": "code",
   "execution_count": null,
   "metadata": {},
   "outputs": [],
   "source": []
  },
  {
   "cell_type": "code",
   "execution_count": null,
   "metadata": {},
   "outputs": [],
   "source": []
  }
 ],
 "metadata": {
  "kernelspec": {
   "display_name": "ai_clssifier",
   "language": "python",
   "name": "python3"
  },
  "language_info": {
   "codemirror_mode": {
    "name": "ipython",
    "version": 3
   },
   "file_extension": ".py",
   "mimetype": "text/x-python",
   "name": "python",
   "nbconvert_exporter": "python",
   "pygments_lexer": "ipython3",
   "version": "3.10.13"
  }
 },
 "nbformat": 4,
 "nbformat_minor": 2
}
