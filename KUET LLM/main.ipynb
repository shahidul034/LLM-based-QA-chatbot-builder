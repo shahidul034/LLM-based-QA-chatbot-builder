{
 "cells": [
  {
   "cell_type": "code",
   "execution_count": 1,
   "metadata": {},
   "outputs": [
    {
     "data": {
      "text/html": [
       "<div>\n",
       "<style scoped>\n",
       "    .dataframe tbody tr th:only-of-type {\n",
       "        vertical-align: middle;\n",
       "    }\n",
       "\n",
       "    .dataframe tbody tr th {\n",
       "        vertical-align: top;\n",
       "    }\n",
       "\n",
       "    .dataframe thead th {\n",
       "        text-align: right;\n",
       "    }\n",
       "</style>\n",
       "<table border=\"1\" class=\"dataframe\">\n",
       "  <thead>\n",
       "    <tr style=\"text-align: right;\">\n",
       "      <th></th>\n",
       "      <th>question</th>\n",
       "      <th>answer</th>\n",
       "    </tr>\n",
       "  </thead>\n",
       "  <tbody>\n",
       "    <tr>\n",
       "      <th>0</th>\n",
       "      <td>What are the requirements for postgraduate pro...</td>\n",
       "      <td>Applicants for master's programs need a B.Sc. ...</td>\n",
       "    </tr>\n",
       "    <tr>\n",
       "      <th>1</th>\n",
       "      <td>How are earned credits and CGPA improvement ha...</td>\n",
       "      <td>Courses with a 'D' grade or higher are counted...</td>\n",
       "    </tr>\n",
       "    <tr>\n",
       "      <th>2</th>\n",
       "      <td>What are the provisions for completing backlog...</td>\n",
       "      <td>Backlog exams are held once a year. Students c...</td>\n",
       "    </tr>\n",
       "    <tr>\n",
       "      <th>3</th>\n",
       "      <td>Can you provide a brief historical background ...</td>\n",
       "      <td>KUET, Bangladesh was established in 1967 as Kh...</td>\n",
       "    </tr>\n",
       "    <tr>\n",
       "      <th>4</th>\n",
       "      <td>What are the neighboring landmarks to KUET?</td>\n",
       "      <td>Nearby landmarks include Govt B. L. College to...</td>\n",
       "    </tr>\n",
       "  </tbody>\n",
       "</table>\n",
       "</div>"
      ],
      "text/plain": [
       "                                            question  \\\n",
       "0  What are the requirements for postgraduate pro...   \n",
       "1  How are earned credits and CGPA improvement ha...   \n",
       "2  What are the provisions for completing backlog...   \n",
       "3  Can you provide a brief historical background ...   \n",
       "4        What are the neighboring landmarks to KUET?   \n",
       "\n",
       "                                              answer  \n",
       "0  Applicants for master's programs need a B.Sc. ...  \n",
       "1  Courses with a 'D' grade or higher are counted...  \n",
       "2  Backlog exams are held once a year. Students c...  \n",
       "3  KUET, Bangladesh was established in 1967 as Kh...  \n",
       "4  Nearby landmarks include Govt B. L. College to...  "
      ]
     },
     "execution_count": 1,
     "metadata": {},
     "output_type": "execute_result"
    }
   ],
   "source": [
    "import pandas as pd\n",
    "df=pd.read_excel(\"validation-kuetllm.xlsx\")\n",
    "df.head()"
   ]
  },
  {
   "cell_type": "code",
   "execution_count": 7,
   "metadata": {},
   "outputs": [
    {
     "data": {
      "text/plain": [
       "'What are the requirements for postgraduate programs at KUET?'"
      ]
     },
     "execution_count": 7,
     "metadata": {},
     "output_type": "execute_result"
    }
   ],
   "source": [
    "(df.loc[0])['question']"
   ]
  },
  {
   "cell_type": "code",
   "execution_count": null,
   "metadata": {},
   "outputs": [],
   "source": [
    "import gradio as gr\n",
    "import pandas as pd\n",
    "css = \"\"\"\n",
    "#accepted {background-color: green;align-content: center;font: 30px Arial, sans-serif;}\n",
    "#wrong {background-color: red;align-content: center;font: 30px Arial, sans-serif;}\n",
    "#already {background-color: blue;align-content: center;font: 30px Arial, sans-serif;}\n",
    "\"\"\"\n",
    "\n",
    "with gr.Blocks(css=css) as demo:\n",
    "    with gr.Row():\n",
    "        gr.Label(value=\"https://huggingface.co/datasets/conll2003\")\n",
    "    with gr.Row():\n",
    "        gr.Label(value=\"https://huggingface.co/datasets/conll2003\")\n",
    "    with gr.Row():\n",
    "        correct = gr.Button(\"Correct\")\n",
    "        wrong = gr.Button(\"Wrong\")\n",
    "    with gr.Row():\n",
    "        question = gr.Button(\"Generate new question\")\n",
    "    correct.click(correct_cnt,[tok_text,pos_tag,ner_tag],[lab_pos_ner])\n",
    "    wrong.click(wrong_cnt,[tok_text,pos_tag,ner_tag],[lab,show_text1,show_text2])\n",
    "\n",
    "demo.launch(share=False)"
   ]
  }
 ],
 "metadata": {
  "kernelspec": {
   "display_name": "ai_clssifier",
   "language": "python",
   "name": "python3"
  },
  "language_info": {
   "codemirror_mode": {
    "name": "ipython",
    "version": 3
   },
   "file_extension": ".py",
   "mimetype": "text/x-python",
   "name": "python",
   "nbconvert_exporter": "python",
   "pygments_lexer": "ipython3",
   "version": "3.10.13"
  }
 },
 "nbformat": 4,
 "nbformat_minor": 2
}
