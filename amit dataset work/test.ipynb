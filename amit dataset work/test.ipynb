{
 "cells": [
  {
   "cell_type": "code",
   "execution_count": 1,
   "metadata": {},
   "outputs": [],
   "source": [
    "import pandas as pd\n",
    "def dataset_gen():\n",
    "    from datasets import load_from_disk\n",
    "    dataset = load_from_disk(\"data\")\n",
    "    return dataset"
   ]
  },
  {
   "cell_type": "code",
   "execution_count": 2,
   "metadata": {},
   "outputs": [],
   "source": [
    "def display_table(front):\n",
    "    # Replace index names with custom labels\n",
    "    df = pd.DataFrame(dataset[front])\n",
    "    df=df.drop(['id'],axis=1)\n",
    "    text=\" \".join(dataset[int(front)]['tokens'])\n",
    "    df_with_custom_index = df.copy()\n",
    "    df_with_custom_index.index = [f\"Row {i+1}\" for i in range(len(df))]\n",
    "    \n",
    "    # Convert DataFrame with custom index to HTML table\n",
    "    html_table = df_with_custom_index.to_html(index=True)\n",
    "    \n",
    "    # Wrapping HTML table with Gradio Text\n",
    "    return f\"<div style='overflow-x:auto;'>{html_table}</div>\""
   ]
  },
  {
   "cell_type": "code",
   "execution_count": 3,
   "metadata": {},
   "outputs": [],
   "source": [
    "def pos_ner_show(tok_text,pos_tag,ner_tag):\n",
    "    # Replace index names with custom labels\n",
    "    import ast\n",
    "    tok_text = ast.literal_eval(tok_text)\n",
    "    data={\n",
    "        \"tokens\": tok_text,\n",
    "        \"pos_tag\":pos_tag.split(\",\"),\n",
    "        'ner_tag':ner_tag.split(\",\")\n",
    "    }\n",
    "    print(data)\n",
    "    df = pd.DataFrame(data)\n",
    "    df_with_custom_index = df.copy()\n",
    "    df_with_custom_index.index = [f\"Row {i+1}\" for i in range(len(df))]\n",
    "    \n",
    "    # Convert DataFrame with custom index to HTML table\n",
    "    html_table = df_with_custom_index.to_html(index=True)\n",
    "    \n",
    "    # Wrapping HTML table with Gradio Text\n",
    "    return {lab_pos_ner: gr.Label(visible=True,value=f\"<div style='overflow-x:auto;'>{html_table}</div>\"),\n",
    "        # lab: gr.Label(visible=True,elem_id=\"accepted\",value=\"Submitted\")\n",
    "    }"
   ]
  },
  {
   "cell_type": "code",
   "execution_count": 4,
   "metadata": {},
   "outputs": [],
   "source": [
    "def show_tok(tran_text):\n",
    "    import nltk\n",
    "    # nltk.download('punkt')\n",
    "    tokens = nltk.word_tokenize(tran_text)\n",
    "    return {\n",
    "                tok_text: gr.Label(value=f\"{tokens}\")\n",
    "        }"
   ]
  },
  {
   "cell_type": "code",
   "execution_count": 5,
   "metadata": {},
   "outputs": [],
   "source": [
    "def save_data(tok_text,pos_tag,ner_tag):\n",
    "    import pandas as pd\n",
    "    front=int(open(\"current_data.txt\",\"r\").read())\n",
    "    df = pd.read_excel('data.xlsx')\n",
    "    import ast\n",
    "    tok_text = ast.literal_eval(tok_text)\n",
    "    # if len(tok_text)==len(pos_tag.split(\",\")) and len(tok_text)==len(ner_tag.split(\",\")):\n",
    "    #     return {lab: gr.Label(visible=True,elem_id=\"wrong\",value=\"Error!!!\"),    \n",
    "    #         }\n",
    "    data={\n",
    "        'id':front,\n",
    "        \"tokens\": tok_text,\n",
    "        \"pos_tag\":pos_tag.split(\",\"),\n",
    "        'ner_tag':ner_tag.split(\",\")\n",
    "    }\n",
    "    front=front+1\n",
    "    open(\"current_data.txt\",\"w\").write(f\"{front}\")\n",
    "    df = df._append(data, ignore_index=True)\n",
    "    df.to_excel('data.xlsx', index=False)\n",
    "    return {lab: gr.Label(visible=True,elem_id=\"accepted\",value=\"Submitted\"),\n",
    "            show_text1 : gr.HTML(value=display_table(front)),\n",
    "            show_text2 : gr.Textbox(value=\" \".join(dataset[int(front)]['tokens']))         \n",
    "            }\n"
   ]
  },
  {
   "cell_type": "code",
   "execution_count": 6,
   "metadata": {},
   "outputs": [
    {
     "name": "stderr",
     "output_type": "stream",
     "text": [
      "c:\\Users\\Andromeda\\miniconda3\\envs\\ai_clssifier\\lib\\site-packages\\tqdm\\auto.py:21: TqdmWarning: IProgress not found. Please update jupyter and ipywidgets. See https://ipywidgets.readthedocs.io/en/stable/user_install.html\n",
      "  from .autonotebook import tqdm as notebook_tqdm\n"
     ]
    },
    {
     "name": "stdout",
     "output_type": "stream",
     "text": [
      "Running on local URL:  http://127.0.0.1:7860\n",
      "\n",
      "To create a public link, set `share=True` in `launch()`.\n"
     ]
    },
    {
     "data": {
      "text/html": [
       "<div><iframe src=\"http://127.0.0.1:7860/\" width=\"100%\" height=\"500\" allow=\"autoplay; camera; microphone; clipboard-read; clipboard-write;\" frameborder=\"0\" allowfullscreen></iframe></div>"
      ],
      "text/plain": [
       "<IPython.core.display.HTML object>"
      ]
     },
     "metadata": {},
     "output_type": "display_data"
    },
    {
     "data": {
      "text/plain": []
     },
     "execution_count": 6,
     "metadata": {},
     "output_type": "execute_result"
    }
   ],
   "source": [
    "import gradio as gr\n",
    "css = \"\"\"\n",
    "#accepted {background-color: green;align-content: center;font: 30px Arial, sans-serif;}\n",
    "#wrong {background-color: red;align-content: center;font: 30px Arial, sans-serif;}\n",
    "#already {background-color: blue;align-content: center;font: 30px Arial, sans-serif;}\n",
    "\"\"\"\n",
    "dataset=dataset_gen()\n",
    "front=int(open(\"current_data.txt\",\"r\").read())\n",
    "text=\" \".join(dataset[int(front)]['tokens'])\n",
    "with gr.Blocks(css=css) as demo:\n",
    "    with gr.Row():\n",
    "        gr.Label(value=\"https://huggingface.co/datasets/conll2003\")\n",
    "    with gr.Row():\n",
    "        show_text1 = gr.HTML(value=display_table(front))\n",
    "        show_text2 = gr.Textbox(value=text)\n",
    "    with gr.Row():\n",
    "        tran_text=gr.Textbox(label=\"Enter translated text\",info=\"sample of input: ঐতিহাসিক ৭ মার্চে বঙ্গবন্ধুর স্মৃতির প্রতি প্রধানমন্ত্রীর শ্রদ্ধা\")\n",
    "    with gr.Row():\n",
    "        tok_text=gr.Label(label=\"Tokenized text\")\n",
    "    with gr.Row():\n",
    "        pos_tag = gr.Textbox(label=\"Enter POS tag\",info=\"sample of input: 22, 42, 16, 21, 35, 37, 16, 21, 7\")\n",
    "    with gr.Row():\n",
    "        ner_tag = gr.Textbox(label=\"Enter NER tag\",info=\"sample of input: 22, 42, 16, 21, 35, 37, 16, 21, 7\")\n",
    "    with gr.Row():\n",
    "        lab_pos_ner = gr.HTML(visible=False)\n",
    "    with gr.Row():\n",
    "        check = gr.Button(\"Check\")\n",
    "        save = gr.Button(\"Save the data\")\n",
    "    with gr.Row():\n",
    "        lab=gr.Label(visible=False)\n",
    "    tran_text.change(show_tok,tran_text,tok_text)\n",
    "    check.click(pos_ner_show,[tok_text,pos_tag,ner_tag],[lab_pos_ner])\n",
    "    save.click(save_data,[tok_text,pos_tag,ner_tag],[lab,show_text1,show_text2])\n",
    "\n",
    "demo.launch(share=False)"
   ]
  },
  {
   "cell_type": "code",
   "execution_count": 7,
   "metadata": {},
   "outputs": [
    {
     "name": "stdout",
     "output_type": "stream",
     "text": [
      "{'tokens': ['ঐতিহাসিক', '৭', 'মার্চে'], 'pos_tag': ['1', '2', '3'], 'ner_tag': ['1', '2', '3']}\n"
     ]
    }
   ],
   "source": [
    "# import gradio as gr\n",
    "# import pandas as pd\n",
    "\n",
    "\n",
    "# def display_table():\n",
    "#     # Replace index names with custom labels\n",
    "#     li=id_list()\n",
    "#     front=li[len(li)-1]\n",
    "#     df = pd.DataFrame(dataset[0])\n",
    "#     df=df.drop(['id'],axis=1)\n",
    "#     text=\" \".join(dataset[int(front)]['tokens'])\n",
    "#     df_with_custom_index = df.copy()\n",
    "#     df_with_custom_index.index = [f\"Row {i+1}\" for i in range(len(df))]\n",
    "    \n",
    "#     # Convert DataFrame with custom index to HTML table\n",
    "#     html_table = df_with_custom_index.to_html(index=True)\n",
    "    \n",
    "#     # Wrapping HTML table with Gradio Text\n",
    "#     return f\"<div style='overflow-x:auto;'>{html_table}</div>\"\n",
    "\n",
    "# iface = gr.Interface(fn=display_table, inputs=None, outputs=\"html\", title=\"Data Table Display\")\n",
    "# iface.launch()\n"
   ]
  },
  {
   "cell_type": "code",
   "execution_count": null,
   "metadata": {},
   "outputs": [],
   "source": []
  }
 ],
 "metadata": {
  "kernelspec": {
   "display_name": "ai_clssifier",
   "language": "python",
   "name": "python3"
  },
  "language_info": {
   "codemirror_mode": {
    "name": "ipython",
    "version": 3
   },
   "file_extension": ".py",
   "mimetype": "text/x-python",
   "name": "python",
   "nbconvert_exporter": "python",
   "pygments_lexer": "ipython3",
   "version": "3.10.13"
  }
 },
 "nbformat": 4,
 "nbformat_minor": 2
}
